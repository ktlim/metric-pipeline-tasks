{
 "cells": [
  {
   "cell_type": "markdown",
   "metadata": {},
   "source": [
    "## Butler Access to Intermediate Data Products used for Verification Analyses\n",
    "\n",
    "This is a simple example notebook to demonstrate how to access the intermediate data products with the Gen-3 butler"
   ]
  },
  {
   "cell_type": "code",
   "execution_count": null,
   "metadata": {},
   "outputs": [],
   "source": [
    "import os\n",
    "import numpy as np\n",
    "import pylab\n",
    "%matplotlib widget\n",
    "\n",
    "# Stack imports\n",
    "import lsst.daf.butler as dafButler"
   ]
  },
  {
   "cell_type": "code",
   "execution_count": null,
   "metadata": {},
   "outputs": [],
   "source": [
    "# Which version of the Stack am I using?\n",
    "!eups list -s | grep lsst_distrib"
   ]
  },
  {
   "cell_type": "code",
   "execution_count": null,
   "metadata": {},
   "outputs": [],
   "source": [
    "repo = '/project/krughoff/repos/ci_hsc_gen3'\n",
    "\n",
    "config = os.path.join(repo,'DATA','butler.yaml')\n",
    "\n",
    "\n",
    "try: butler = dafButler.Butler(config=config)\n",
    "except ValueError as e: print(e)\n",
    "\n",
    "butler = dafButler.Butler(config=config)\n",
    "registry = butler.registry"
   ]
  },
  {
   "cell_type": "code",
   "execution_count": null,
   "metadata": {},
   "outputs": [],
   "source": [
    "for c in registry.queryCollections():\n",
    "    print(c)"
   ]
  },
  {
   "cell_type": "code",
   "execution_count": null,
   "metadata": {},
   "outputs": [],
   "source": [
    "for x in registry.queryDatasetTypes():\n",
    "    print(x)"
   ]
  },
  {
   "cell_type": "code",
   "execution_count": null,
   "metadata": {},
   "outputs": [],
   "source": [
    "# Yes, you really do need to specify the collections argument\n",
    "refs = list(registry.queryDatasets('matchedCatalog', collections='matchedTest', abstract_filter='r'))\n",
    "src_refs = list(registry.queryDatasets('src', collections='matchedTest', abstract_filter='r'))"
   ]
  },
  {
   "cell_type": "code",
   "execution_count": null,
   "metadata": {},
   "outputs": [],
   "source": [
    "# A variant\n",
    "#dataIds = list(registry.queryDimensions([\"exposure\", \"detector\"], datasets=[\"calexp\"], collections=\"shared/ci_hsc_output\"))\n",
    "#calexp = butler.get('calexp', dataId=dataIds[0])"
   ]
  },
  {
   "cell_type": "code",
   "execution_count": null,
   "metadata": {},
   "outputs": [],
   "source": [
    "pylab.figure()\n",
    "markers = ['.', 'v', '^', '<', '>', '1', '2', '3', '4']\n",
    "i = 0\n",
    "for ref in refs:\n",
    "    matched_catalog = butler.getDirect(ref)\n",
    "    if len(matched_catalog) > 0:\n",
    "        pylab.scatter(matched_catalog['coord_ra']*180/np.pi, matched_catalog['coord_dec']*180/np.pi, \n",
    "                      edgecolor='none', marker=markers[i]) \n",
    "        i += 1\n",
    "pylab.xlabel('RA (deg)')\n",
    "pylab.ylabel('Dec (deg)')"
   ]
  }
 ],
 "metadata": {
  "kernelspec": {
   "display_name": "LSST",
   "language": "python",
   "name": "lsst"
  },
  "language_info": {
   "codemirror_mode": {
    "name": "ipython",
    "version": 3
   },
   "file_extension": ".py",
   "mimetype": "text/x-python",
   "name": "python",
   "nbconvert_exporter": "python",
   "pygments_lexer": "ipython3",
   "version": "3.7.6"
  }
 },
 "nbformat": 4,
 "nbformat_minor": 4
}
