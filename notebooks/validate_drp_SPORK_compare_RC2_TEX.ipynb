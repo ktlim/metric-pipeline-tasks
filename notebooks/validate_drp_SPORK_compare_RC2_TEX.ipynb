{
 "cells": [
  {
   "cell_type": "code",
   "execution_count": null,
   "metadata": {},
   "outputs": [],
   "source": [
    "# Which version of the Stack am I using?\n",
    "!eups list -s | grep lsst_distrib"
   ]
  },
  {
   "cell_type": "code",
   "execution_count": null,
   "metadata": {},
   "outputs": [],
   "source": [
    "import numpy as np\n",
    "import json\n",
    "import os\n",
    "from astropy.table import Table\n",
    "from astropy import units as u\n",
    "import matplotlib.pyplot as plt\n",
    "%matplotlib widget\n",
    "\n",
    "from lsst.afw.table import SimpleCatalog, GroupView\n",
    "import lsst.verify\n",
    "import lsst.daf.butler as dafButler\n",
    "from lsst.validate.drp.calcsrd.tex import (correlation_function_ellipticity_from_matches,\n",
    "                                           select_bin_from_corr)\n",
    "from metric_pipeline_utils.filtermatches import filterMatches"
   ]
  },
  {
   "cell_type": "code",
   "execution_count": null,
   "metadata": {},
   "outputs": [],
   "source": [
    "#tract_array = [9813, 9615, 9697]\n",
    "#band_array = ['g', 'r', 'i']\n",
    "#metric_array = ['TE1', 'TE2']\n",
    "tract_array = [9813]\n",
    "band_array = ['i']\n",
    "metric_array = ['TE1', 'TE2']"
   ]
  },
  {
   "cell_type": "code",
   "execution_count": null,
   "metadata": {},
   "outputs": [],
   "source": [
    "def getGen2Measurement(band, tract, metric):\n",
    "    infile = '/datasets/hsc/repo/rerun/RC/w_2020_34/DM-26441/validateDrp/matchedVisitMetrics/%s/HSC-%s/matchedVisit_HSC-%s.json'%(tract, \n",
    "                                                                                                                                  band.upper(), \n",
    "                                                                                                                                  band.upper())\n",
    "    with open(infile) as f:\n",
    "        job = lsst.verify.Job.deserialize(**json.load(f))\n",
    "    measurement = job.measurements['validate_drp.%s'%(metric)]\n",
    "    return measurement"
   ]
  },
  {
   "cell_type": "code",
   "execution_count": null,
   "metadata": {},
   "outputs": [],
   "source": [
    "%%time\n",
    "# This takes several minutes to run\n",
    "gen2_measurement_dict = {}\n",
    "for tract in tract_array:\n",
    "    for band in band_array:\n",
    "        for metric in metric_array:\n",
    "            measurement = getGen2Measurement(band, tract, metric)\n",
    "            print(band, tract, metric, measurement)\n",
    "            gen2_measurement_dict['%s_%s_%s'%(band, tract, metric)] = measurement"
   ]
  },
  {
   "cell_type": "code",
   "execution_count": null,
   "metadata": {},
   "outputs": [],
   "source": [
    "#gen2_measurement['i_9813_TE1'].extras['radius'].quantity\n",
    "#gen2_measurement['i_9813_TE1'].extras['xip'].quantity"
   ]
  },
  {
   "cell_type": "code",
   "execution_count": null,
   "metadata": {},
   "outputs": [],
   "source": [
    "repo = '/project/hsc/gen3repo/rc2w34_ssw36/'\n",
    "config = os.path.join(repo,'butler.yaml')\n",
    "try: butler_gen3 = dafButler.Butler(config=config)\n",
    "except ValueError as e: print(e)"
   ]
  },
  {
   "cell_type": "code",
   "execution_count": null,
   "metadata": {},
   "outputs": [],
   "source": [
    "def getGen3Measurement(butler, band, tract, metric):\n",
    "    #refs = list(registry.queryDatasets('metricvalue_validate_drp_%s'%(metric), collections=collection, abstract_filter=band, data))\n",
    "    dataid = {'tract':tract, 'abstract_filter':band, 'instrument':'HSC', 'skymap':'hsc_rings_v1'}\n",
    "    #assert len(refs) == 1\n",
    "    #measurement = butler_gen3.getDirect(refs[0]).quantity\n",
    "    collection = 'kbechtol/svv_%s_gri_matched'%(tract)\n",
    "    measurement = butler.get('metricvalue_validate_drp_%s'%(metric), \n",
    "                              collections=collection, dataId=dataid)\n",
    "    return measurement"
   ]
  },
  {
   "cell_type": "code",
   "execution_count": null,
   "metadata": {},
   "outputs": [],
   "source": [
    "gen3_measurement_dict = {}\n",
    "for tract in tract_array:\n",
    "    for band in band_array:\n",
    "        for metric in metric_array:\n",
    "            measurement = getGen3Measurement(butler_gen3, band, tract, metric)\n",
    "            print(measurement)\n",
    "            gen3_measurement_dict['%s_%s_%s'%(band, tract, metric)] = measurement"
   ]
  },
  {
   "cell_type": "code",
   "execution_count": null,
   "metadata": {},
   "outputs": [],
   "source": [
    "def getGen3MatchedCat(butler, band, tract, applyFilter=True):\n",
    "    collection = 'kbechtol/svv_%s_gri_matched'%(tract)\n",
    "    dataid = {'tract':tract, 'abstract_filter':band, 'instrument':'HSC', 'skymap':'hsc_rings_v1'}\n",
    "    matchedCatalog = butler_gen3.get('matchedCatalogTract', collections=collection, dataId=dataid)\n",
    "    if applyFilter:\n",
    "        filteredCat = filterMatches(matchedCatalog)\n",
    "        return filteredCat\n",
    "    else:\n",
    "        matchedCat = GroupView.build(matchedCatalog)\n",
    "        return matchedCat"
   ]
  },
  {
   "cell_type": "code",
   "execution_count": null,
   "metadata": {},
   "outputs": [],
   "source": [
    "def getGen2MatchedCat(band, tract, applyFilter=True):\n",
    "    #infile = '/project/jcarlin/matched_cats/RC2_tract%s_HSC-%s_matched_cat_validateDrp.fits'%(tract, band.upper())\n",
    "    infile = '/project/jcarlin/matched_cats/no_ext_calib/RC2_tract%s_HSC-%s_matched_cat_validateDrp.fits'%(tract, band.upper())\n",
    "    matchedCatalog = SimpleCatalog.readFits(infile)\n",
    "    if applyFilter:\n",
    "        filteredCat = filterMatches(matchedCatalog)\n",
    "        return filteredCat\n",
    "    else:\n",
    "        matchedCat = GroupView.build(matchedCatalog)\n",
    "        return matchedCat"
   ]
  },
  {
   "cell_type": "code",
   "execution_count": null,
   "metadata": {},
   "outputs": [],
   "source": [
    "%%time\n",
    "# This takes ~10 minutes to run\n",
    "gen3_filtered_cat_dict = {}\n",
    "for tract in tract_array:\n",
    "    for band in band_array:\n",
    "        print('%s_%s'%(band, tract))\n",
    "        #collection = 'kbechtol/svv_%s_gri_matched'%(tract)\n",
    "        #dataid = {'tract':tract, 'abstract_filter':band, 'instrument':'HSC', 'skymap':'hsc_rings_v1'}\n",
    "        #matchedCatalog = butler_gen3.get('matchedCatalogTract', collections=collection, dataId=dataid)\n",
    "        #print(len(matchedCatalog))\n",
    "        #filteredCat = filterMatches(matchedCatalog, snrMin=50)\n",
    "        #print(len(filteredCat))\n",
    "        filteredCat = getGen3MatchedCat(butler_gen3, band, tract, applyFilter=True)\n",
    "        gen3_filtered_cat_dict['%s_%s'%(band, tract)] = filteredCat"
   ]
  },
  {
   "cell_type": "code",
   "execution_count": null,
   "metadata": {},
   "outputs": [],
   "source": [
    "%%time\n",
    "# This takes ~10 minutes to run\n",
    "gen2_filtered_cat_dict = {}\n",
    "for tract in tract_array:\n",
    "    for band in band_array:\n",
    "        print('%s_%s'%(band, tract))\n",
    "        filteredCat = getGen2MatchedCat(band, tract, applyFilter=True)\n",
    "        gen2_filtered_cat_dict['%s_%s'%(band, tract)] = filteredCat"
   ]
  },
  {
   "cell_type": "code",
   "execution_count": null,
   "metadata": {},
   "outputs": [],
   "source": [
    "%%time\n",
    "# This takes ~10 minutes to run\n",
    "gen3_matched_cat_dict = {}\n",
    "for tract in tract_array:\n",
    "    for band in band_array:\n",
    "        print('%s_%s'%(band, tract))\n",
    "        matchedCat = getGen3MatchedCat(butler_gen3, band, tract, applyFilter=False)\n",
    "        gen3_matched_cat_dict['%s_%s'%(band, tract)] = matchedCat"
   ]
  },
  {
   "cell_type": "code",
   "execution_count": null,
   "metadata": {},
   "outputs": [],
   "source": [
    "%%time\n",
    "# This takes ~10 minutes to run\n",
    "gen2_matched_cat_dict = {}\n",
    "for tract in tract_array:\n",
    "    for band in band_array:\n",
    "        print('%s_%s'%(band, tract))\n",
    "        matchedCat = getGen2MatchedCat(band, tract, applyFilter=False)\n",
    "        gen2_matched_cat_dict['%s_%s'%(band, tract)] = matchedCat"
   ]
  },
  {
   "cell_type": "code",
   "execution_count": null,
   "metadata": {},
   "outputs": [],
   "source": [
    "def plotXi(radius, xip, xip_err, color, label=None):\n",
    "    plt.errorbar(radius.value, xip, yerr=np.where(xip > 0, xip_err, 0), \n",
    "                marker='o', c='none', mfc=color, mec=color, ecolor=color, barsabove=True, label=label)\n",
    "    plt.errorbar(radius.value, -1 * xip, yerr=np.where(xip < 0, xip_err, 0), \n",
    "                 marker='o', c='none', ls='--', mfc='none', mec=color, ecolor=color, barsabove=True)"
   ]
  },
  {
   "cell_type": "code",
   "execution_count": null,
   "metadata": {},
   "outputs": [],
   "source": [
    "def plotCorrelationFunctionComparison(butler, band, tract, \n",
    "                                      gen2_filtered_cat=None, gen3_filtered_cat=None, \n",
    "                                      gen2_measurement=None, gen3_measurement=None):\n",
    "\n",
    "    plt.figure(figsize=(8,6))\n",
    "    #plt.errorbar(radius.value, xip, yerr=np.where(xip > 0, xip_err, 0), \n",
    "    #            marker='o', c='none', mfc='black', mec='black', ecolor='black', barsabove=True)\n",
    "    #plt.errorbar(radius.value, -1 * xip, yerr=np.where(xip < 0, xip_err, 0), \n",
    "    #             marker='o', c='none', ls='--', mfc='none', mec='black', ecolor='black', barsabove=True)\n",
    "    \n",
    "    if gen2_filtered_cat:\n",
    "        gen2_filteredCat = gen2_filtered_cat['%s_%s'%(band, tract)]\n",
    "        gen2_radius, gen2_xip, gen2_xip_err = correlation_function_ellipticity_from_matches(gen2_filteredCat)\n",
    "        plotXi(gen2_radius * 0.95, gen2_xip, gen2_xip_err, color='black', label='validate_drp FilteredCatalog')\n",
    "    \n",
    "    if gen3_filtered_cat:\n",
    "        gen3_filteredCat = gen3_filtered_cat['%s_%s'%(band, tract)]\n",
    "        gen3_radius, gen3_xip, gen3_xip_err = correlation_function_ellipticity_from_matches(gen3_filteredCat)\n",
    "        plotXi(gen3_radius, gen3_xip, gen3_xip_err, color='red', label='new_framework FilteredCatalog')\n",
    "    \n",
    "    if gen2_measurement:\n",
    "        plotXi(gen2_measurement['%s_%s_TE1'%(band, tract)].extras['radius'].quantity * 1.05,\n",
    "               gen2_measurement['%s_%s_TE1'%(band, tract)].extras['xip'].quantity, \n",
    "               gen2_measurement['%s_%s_TE1'%(band, tract)].extras['xip_err'].quantity, color='blue', label='validate_drp extras')\n",
    "        #plotXi(gen2_measurement['%s_%s_TE2'%(band, tract)].extras['radius'].quantity,\n",
    "        #       gen2_measurement['%s_%s_TE2'%(band, tract)].extras['xip'].quantity, \n",
    "        #       gen2_measurement['%s_%s_TE2'%(band, tract)].extras['xip_err'].quantity, color='green')\n",
    "    \n",
    "    xlim = plt.xlim()\n",
    "    plt.xscale('log')\n",
    "    plt.yscale('log')\n",
    "    plt.ylim(1.e-8, 1.e-3)\n",
    "    \n",
    "    key = '%s_%s_%s'%(band, tract, metric)\n",
    "    if gen2_measurement:\n",
    "        plt.hlines(gen2_measurement['%s_%s_%s'%(band, tract, 'TE1')].quantity.value, \n",
    "                   color='blue', xmin=0., xmax=1.)\n",
    "        plt.hlines(gen2_measurement['%s_%s_%s'%(band, tract, 'TE2')].quantity.value, \n",
    "                   color='blue', xmin=5., xmax=100., label='validate_drp Measurement')\n",
    "    if gen3_measurement:\n",
    "        plt.hlines(gen3_measurement['%s_%s_%s'%(band, tract, 'TE1')].quantity.value, \n",
    "                   color='red', xmin=0., xmax=1., ls='--')\n",
    "        plt.hlines(gen3_measurement['%s_%s_%s'%(band, tract, 'TE2')].quantity.value, \n",
    "                   color='red', xmin=5., xmax=100., ls='--', label='new framework Measurement')\n",
    "    \n",
    "    plt.axvspan(5., xlim[-1], color='0.9')\n",
    "    plt.axvspan(xlim[0], 1., color='0.9')\n",
    "    plt.xlim(xlim)\n",
    "    \n",
    "    plt.title('tract: %s, band: %s'%(tract, band))\n",
    "    plt.xlabel('r (arcmin)')\n",
    "    plt.ylabel('Residual Ellipticity Correlation')\n",
    "    plt.legend(loc='upper right')"
   ]
  },
  {
   "cell_type": "code",
   "execution_count": null,
   "metadata": {
    "jupyter": {
     "source_hidden": true
    }
   },
   "outputs": [],
   "source": [
    "def plot2(butler, band, tract, gen2_measurement=None, gen3_measurement=None):\n",
    "\n",
    "    collection = 'kbechtol/svv_%s_gri_matched'%(tract)\n",
    "    dataid = {'tract':tract, 'abstract_filter':band, 'instrument':'HSC', 'skymap':'hsc_rings_v1'}\n",
    "    butler.get('matchedCatalogTract', collections=collection, dataId=dataid)\n",
    "\n",
    "    matchedCatalog = butler.getDirect(matched_catalog_tract_refs[0])\n",
    "\n",
    "    filteredCat = filterMatches(matchedCatalog, snrMin=50)\n",
    "    \n",
    "    print(len(matchedCatalog))\n",
    "    print(len(filteredCat))\n",
    "    \n",
    "    radius, xip, xip_err = correlation_function_ellipticity_from_matches(filteredCat)\n",
    "\n",
    "    plt.figure()\n",
    "    plt.errorbar(radius.value, xip, yerr=np.where(xip > 0, xip_err, 0), \n",
    "                marker='o', c='none', mfc='black', mec='black', ecolor='black', barsabove=True)\n",
    "    plt.errorbar(radius.value, -1 * xip, yerr=np.where(xip < 0, xip_err, 0), \n",
    "                 marker='o', c='none', ls='--', mfc='none', mec='black', ecolor='black', barsabove=True)\n",
    "    \n",
    "    xlim = plt.xlim()\n",
    "    plt.xscale('log')\n",
    "    plt.yscale('log')\n",
    "    plt.ylim(1.e-8, 1.e-3)\n",
    "    \n",
    "    key = '%s_%s_%s'%(band, tract, metric)\n",
    "    if gen2_measurement:\n",
    "        plt.hlines(gen2_measurement['%s_%s_%s'%(band, tract, 'TE1')].quantity.value, \n",
    "                   color='blue', xmin=0., xmax=1.)\n",
    "        plt.hlines(gen2_measurement['%s_%s_%s'%(band, tract, 'TE2')].quantity.value, \n",
    "                   color='blue', xmin=5., xmax=100., label='validate_drp')\n",
    "    if gen3_measurement:\n",
    "        plt.hlines(gen3_measurement['%s_%s_%s'%(band, tract, 'TE1')].quantity.value, \n",
    "                   color='red', xmin=0., xmax=1., ls='--')\n",
    "        plt.hlines(gen3_measurement['%s_%s_%s'%(band, tract, 'TE2')].quantity.value, \n",
    "                   color='red', xmin=5., xmax=100., ls='--', label='new framework')\n",
    "    \n",
    "    plt.axvspan(5., xlim[-1], color='0.9')\n",
    "    plt.axvspan(xlim[0], 1., color='0.9')\n",
    "    plt.xlim(xlim)\n",
    "    \n",
    "    plt.title('tract: %s, band: %s'%(tract, band))\n",
    "    plt.xlabel('r (arcmin)')\n",
    "    plt.ylabel('Residual Ellipticity Correlation')\n",
    "    plt.legend(loc='upper right')"
   ]
  },
  {
   "cell_type": "code",
   "execution_count": null,
   "metadata": {},
   "outputs": [],
   "source": [
    "for tract in tract_array:\n",
    "    for band in band_array:\n",
    "        plotCorrelationFunctionComparison(butler_gen3, band, tract, \n",
    "                                          gen2_filtered_cat=gen2_filtered_cat_dict, gen3_filtered_cat=gen3_filtered_cat_dict,\n",
    "                                          gen2_measurement=gen2_measurement_dict, gen3_measurement=gen3_measurement_dict)"
   ]
  },
  {
   "cell_type": "code",
   "execution_count": null,
   "metadata": {},
   "outputs": [],
   "source": [
    "def plotRaDec(cat, **kwargs):\n",
    "    ra = cat.aggregate(np.median, 'coord_ra')\n",
    "    dec = cat.aggregate(np.median, 'coord_dec')\n",
    "    plt.scatter(ra, dec, **kwargs)"
   ]
  },
  {
   "cell_type": "code",
   "execution_count": null,
   "metadata": {},
   "outputs": [],
   "source": [
    "cat = gen2_matched_cat_dict['%s_%s'%(band, tract)]"
   ]
  },
  {
   "cell_type": "code",
   "execution_count": null,
   "metadata": {},
   "outputs": [],
   "source": [
    "cat.groups[0]['base_PixelFlags_flag_saturated']"
   ]
  },
  {
   "cell_type": "code",
   "execution_count": null,
   "metadata": {},
   "outputs": [],
   "source": [
    "#cat = gen2_filtered_cat_dict['%s_%s'%(band, tract)]\n",
    "cat = gen2_matched_cat_dict['%s_%s'%(band, tract)]\n",
    "#ra = cat.apply(np.median, 'coord_ra')"
   ]
  },
  {
   "cell_type": "code",
   "execution_count": null,
   "metadata": {},
   "outputs": [],
   "source": [
    "ra_agg = cat.aggregate(np.median, 'coord_ra')"
   ]
  },
  {
   "cell_type": "code",
   "execution_count": null,
   "metadata": {},
   "outputs": [],
   "source": [
    "print(cat.count)\n",
    "print(ra_agg.shape)"
   ]
  },
  {
   "cell_type": "code",
   "execution_count": null,
   "metadata": {},
   "outputs": [],
   "source": [
    "plt.figure()\n",
    "plt.scatter(ra_agg, ra_agg[::-1])"
   ]
  },
  {
   "cell_type": "code",
   "execution_count": null,
   "metadata": {},
   "outputs": [],
   "source": [
    "#dir(gen2_matchedCat)"
   ]
  },
  {
   "cell_type": "code",
   "execution_count": null,
   "metadata": {},
   "outputs": [],
   "source": [
    "#gen2_matchedCat.count / len(gen2_matchedCat)\n",
    "gen2_matchedCat"
   ]
  },
  {
   "cell_type": "code",
   "execution_count": null,
   "metadata": {},
   "outputs": [],
   "source": [
    "def plotMatchedCatalogComparison(butler, band, tract, \n",
    "                                 gen2_matched_cat=None, gen3_matched_cat=None,\n",
    "                                 gen2_filtered_cat=None, gen3_filtered_cat=None):\n",
    "    plt.figure(figsize=(6,6))\n",
    "    \n",
    "    if gen2_matched_cat:\n",
    "        gen2_matchedCat = gen2_matched_cat['%s_%s'%(band, tract)]\n",
    "        plotRaDec(gen2_matchedCat,\n",
    "                  label='validate_drp MatchedCatalog')\n",
    "        #gen2_ra = gen2_filteredCat.aggregate(np.median, 'coord_ra')\n",
    "        #gen2_dec = gen2_filteredCat.aggregate(np.median, 'coord_dec')\n",
    "        #plt.scatter(gen2_ra, gen2_dec, marker='+')\n",
    "    \n",
    "    if gen3_matched_cat:\n",
    "        gen3_matchedCat = gen3_matched_cat['%s_%s'%(band, tract)]\n",
    "        #gen3_ra = gen3_filteredCat.aggregate(np.median, 'coord_ra')\n",
    "        #gen3_dec = gen3_filteredCat.aggregate(np.median, 'coord_dec')\n",
    "        #plt.scatter(gen3_ra, gen3_dec, marker='x')\n",
    "        plotRaDec(gen3_matchedCat, \n",
    "                  label='new_framework MatchedCatalog')\n",
    "    \n",
    "    if gen2_filtered_cat:\n",
    "        gen2_filteredCat = gen2_filtered_cat['%s_%s'%(band, tract)]\n",
    "        #gen2_ra = gen2_filteredCat.aggregate(np.median, 'coord_ra')\n",
    "        #gen2_dec = gen2_filteredCat.aggregate(np.median, 'coord_dec')\n",
    "        #plt.scatter(gen2_ra, gen2_dec, marker='+')\n",
    "        plotRaDec(gen2_filteredCat, marker='+',\n",
    "                  label='validate_drp FilteredCatalog')\n",
    "    \n",
    "    if gen3_filtered_cat:\n",
    "        gen3_filteredCat = gen3_filtered_cat['%s_%s'%(band, tract)]\n",
    "        #gen3_ra = gen3_filteredCat.aggregate(np.median, 'coord_ra')\n",
    "        #gen3_dec = gen3_filteredCat.aggregate(np.median, 'coord_dec')\n",
    "        #plt.scatter(gen3_ra, gen3_dec, marker='x')\n",
    "        plotRaDec(gen3_filteredCat, marker='x',\n",
    "                  label='new_framework FilteredCatalog')\n",
    "        \n",
    "    plt.title('tract: %s, band: %s'%(tract, band))\n",
    "    plt.xlabel('RA')\n",
    "    plt.ylabel('Dec')\n",
    "    plt.legend(loc='upper right')"
   ]
  },
  {
   "cell_type": "code",
   "execution_count": null,
   "metadata": {},
   "outputs": [],
   "source": [
    "for tract in tract_array:\n",
    "    for band in band_array:\n",
    "        plotMatchedCatalogComparison(butler_gen3, band, tract, \n",
    "                                     gen3_matched_cat=gen3_matched_cat_dict,\n",
    "                                     gen3_filtered_cat=gen3_filtered_cat_dict)\n",
    "        #plotMatchedCatalogComparison(butler_gen3, band, tract, \n",
    "        #                             gen2_matched_cat=gen2_matched_cat_dict, gen3_matched_cat=gen3_matched_cat_dict,\n",
    "        #                             gen2_filtered_cat=gen2_filtered_cat_dict, gen3_filtered_cat=gen3_filtered_cat_dict)"
   ]
  },
  {
   "cell_type": "code",
   "execution_count": null,
   "metadata": {},
   "outputs": [],
   "source": [
    "for tract in tract_array:\n",
    "    for band in band_array:\n",
    "        plotMatchedCatalogComparison(butler_gen3, band, tract, \n",
    "                                     gen2_filtered_cat=gen2_filtered_cat_dict,\n",
    "                                     gen3_filtered_cat=gen3_filtered_cat_dict)"
   ]
  },
  {
   "cell_type": "code",
   "execution_count": null,
   "metadata": {},
   "outputs": [],
   "source": [
    "snrMin = 50.0\n",
    "snrMax = np.Inf\n",
    "extended = False\n",
    "doFlags = True\n",
    "nMatchesRequired = 2\n",
    "isPrimary = True\n",
    "psfStars = False\n",
    "photoCalibStars = False\n",
    "astromCalibStars = False\n",
    "magKey = matchedCat.schema.find('slot_PsfFlux_mag').key\n",
    "\n",
    "def nMatchFilter(cat):\n",
    "    if len(cat) < nMatchesRequired:\n",
    "        return False\n",
    "    return np.isfinite(cat.get(magKey)).all()\n",
    "\n",
    "def snrFilter(cat):\n",
    "    # Note that this also implicitly checks for psfSnr being non-nan.\n",
    "    snr = cat.get('base_PsfFlux_snr')\n",
    "    ok0, = np.where(np.isfinite(snr))\n",
    "    medianSnr = np.median(snr[ok0])\n",
    "    return snrMin <= medianSnr and medianSnr <= snrMax\n",
    "\n",
    "def ptsrcFilter(cat):\n",
    "    ext = cat.get('base_ClassificationExtendedness_value')\n",
    "    # Keep only objects that are flagged as \"not extended\" in *ALL* visits,\n",
    "    # (base_ClassificationExtendedness_value = 1 for extended, 0 for point-like)\n",
    "    if extended:\n",
    "        return np.min(ext) > 0.9\n",
    "    else:\n",
    "        return np.min(ext) < 0.9\n",
    "\n",
    "def flagFilter(cat):\n",
    "    if doFlags:\n",
    "        flag_sat = cat.get(\"base_PixelFlags_flag_saturated\")\n",
    "        flag_cr = cat.get(\"base_PixelFlags_flag_cr\")\n",
    "        flag_bad = cat.get(\"base_PixelFlags_flag_bad\")\n",
    "        flag_edge = cat.get(\"base_PixelFlags_flag_edge\")\n",
    "        return np.logical_not(np.any([flag_sat, flag_cr, flag_bad, flag_edge]))\n",
    "    else:\n",
    "        return True\n",
    "    \n",
    "def fullFilter(cat):\n",
    "        return nMatchFilter(cat) and snrFilter(cat) and ptsrcFilter(cat) and flagFilter(cat)\n",
    "    \n",
    "def comboFilter(cat):\n",
    "        #return snrFilter(cat) and ptsrcFilter(cat) and flagFilter(cat)\n",
    "        #return snrFilter(cat) and flagFilter(cat)\n",
    "        return ptsrcFilter(cat) and flagFilter(cat)"
   ]
  },
  {
   "cell_type": "code",
   "execution_count": null,
   "metadata": {},
   "outputs": [],
   "source": [
    "matchedCat_nMatch = gen3_matched_cat_dict['%s_%s'%(band, tract)].where(nMatchFilter)"
   ]
  },
  {
   "cell_type": "code",
   "execution_count": null,
   "metadata": {},
   "outputs": [],
   "source": [
    "matchedCat_snr = gen3_matched_cat_dict['%s_%s'%(band, tract)].where(snrFilter)"
   ]
  },
  {
   "cell_type": "code",
   "execution_count": null,
   "metadata": {},
   "outputs": [],
   "source": [
    "matchedCat_ptsrc = gen3_matched_cat_dict['%s_%s'%(band, tract)].where(ptsrcFilter)"
   ]
  },
  {
   "cell_type": "code",
   "execution_count": null,
   "metadata": {},
   "outputs": [],
   "source": [
    "matchedCat_flag = gen3_matched_cat_dict['%s_%s'%(band, tract)].where(flagFilter)"
   ]
  },
  {
   "cell_type": "code",
   "execution_count": null,
   "metadata": {},
   "outputs": [],
   "source": [
    "matchedCat_full = gen3_matched_cat_dict['%s_%s'%(band, tract)].where(fullFilter)"
   ]
  },
  {
   "cell_type": "code",
   "execution_count": null,
   "metadata": {},
   "outputs": [],
   "source": [
    "matchedCat_combo = gen3_matched_cat_dict['%s_%s'%(band, tract)].where(comboFilter)"
   ]
  },
  {
   "cell_type": "code",
   "execution_count": null,
   "metadata": {},
   "outputs": [],
   "source": [
    "print(gen3_matched_cat_dict['%s_%s'%(band, tract)].count, len(gen3_matched_cat_dict['%s_%s'%(band, tract)]))\n",
    "print(matchedCat_nMatch.count, len(matchedCat_nMatch))\n",
    "print(matchedCat_snr.count, len(matchedCat_snr))\n",
    "print(matchedCat_ptsrc.count, len(matchedCat_ptsrc))\n",
    "print(matchedCat_flag.count, len(matchedCat_flag))\n",
    "print(matchedCat_full.count, len(matchedCat_full))\n",
    "print(matchedCat_combo.count, len(matchedCat_combo))"
   ]
  },
  {
   "cell_type": "code",
   "execution_count": null,
   "metadata": {},
   "outputs": [],
   "source": [
    "plt.figure()\n",
    "#plotRaDec(matchedCat_nMatch, marker='.', edgecolor='none', s=2) # Very uniform\n",
    "#plotRaDec(matchedCat_snr, marker='.', edgecolor='none', s=2) # slight bias to the periphery\n",
    "#plotRaDec(matchedCat_ptsrc, marker='.', edgecolor='none', s=2) # slight bias to inner\n",
    "#plotRaDec(matchedCat_flag, marker='.', edgecolor='none', s=2) # slight bias to the inner\n",
    "plotRaDec(matchedCat_combo, marker='.', edgecolor='none', s=10)\n",
    "plotRaDec(matchedCat_full, marker='.', edgecolor='none', s=10)"
   ]
  },
  {
   "cell_type": "code",
   "execution_count": null,
   "metadata": {},
   "outputs": [],
   "source": [
    "def nMatchFilter(cat):\n",
    "    if len(cat) < nMatchesRequired:\n",
    "        return False\n",
    "    return np.isfinite(cat.get(magKey)).all()\n",
    "\n",
    "def snrFilter(cat):\n",
    "    # Note that this also implicitly checks for psfSnr being non-nan.\n",
    "    snr = cat.get('base_PsfFlux_snr')\n",
    "    ok0, = np.where(np.isfinite(snr))\n",
    "    medianSnr = np.median(snr[ok0])\n",
    "    return snrMin <= medianSnr and medianSnr <= snrMax\n",
    "\n",
    "def ptsrcFilter(cat):\n",
    "    ext = cat.get('base_ClassificationExtendedness_value')\n",
    "    # Keep only objects that are flagged as \"not extended\" in *ALL* visits,\n",
    "    # (base_ClassificationExtendedness_value = 1 for extended, 0 for point-like)\n",
    "    if extended:\n",
    "        return np.min(ext) > 0.9\n",
    "    else:\n",
    "        return np.min(ext) < 0.9\n",
    "\n",
    "def flagFilter(cat):\n",
    "    if doFlags:\n",
    "        flag_sat = cat.get(\"base_PixelFlags_flag_saturated\")\n",
    "        flag_cr = cat.get(\"base_PixelFlags_flag_cr\")\n",
    "        flag_bad = cat.get(\"base_PixelFlags_flag_bad\")\n",
    "        flag_edge = cat.get(\"base_PixelFlags_flag_edge\")\n",
    "        return np.logical_not(np.any([flag_sat, flag_cr, flag_bad, flag_edge]))\n",
    "    else:\n",
    "        return True"
   ]
  },
  {
   "cell_type": "code",
   "execution_count": null,
   "metadata": {},
   "outputs": [],
   "source": [
    "my_group = matchedCat_full.groups[0]\n",
    "my_group\n",
    "\n",
    "#print(nMatchFilter(my_group),\n",
    "#      snrFilter(my_group),\n",
    "#      ptsrcFilter(my_group),\n",
    "#      flagFilter(my_group))\n",
    "\n",
    "#flag_sat = my_group.get(\"base_PixelFlags_flag_saturated\")\n",
    "#flag_cr = my_group.get(\"base_PixelFlags_flag_cr\")\n",
    "#flag_bad = my_group.get(\"base_PixelFlags_flag_bad\")\n",
    "#flag_edge = my_group.get(\"base_PixelFlags_flag_edge\")\n",
    "#np.logical_not(np.any([flag_sat, flag_cr, flag_bad, flag_edge], axis=0))"
   ]
  },
  {
   "cell_type": "code",
   "execution_count": null,
   "metadata": {},
   "outputs": [],
   "source": [
    "# When using SNR + PTSRC, not the strong peripheral bias\n",
    "# When using SNR + PTSRC + FLAG, strong peripheral bias\n",
    "# When using SNR + FLAG, somewhat peripherical bias\n",
    "# When using PTSRC + FLAG, "
   ]
  },
  {
   "cell_type": "code",
   "execution_count": null,
   "metadata": {},
   "outputs": [],
   "source": [
    "from astropy.coordinates import SkyCoord\n",
    "import pandas as pd\n",
    "\n",
    "def match(lon_1, lat_1, lon_2, lat_2, sep, unique=True):\n",
    "    \"\"\"\n",
    "    Input coordinates and max separation in decimal degrees.\n",
    "    Returns angular separation between pairs in decimal degrees.\n",
    "    If unique is True, consider only the unique closest match.\n",
    "    If unique is False, there can be multiple catalog 1 \n",
    "    objects matched to each catalog 2 object.\n",
    "    \"\"\"\n",
    "    \n",
    "    c_1 = SkyCoord(ra=lon_1*u.degree, dec=lat_1*u.degree)\n",
    "    c_2 = SkyCoord(ra=lon_2*u.degree, dec=lat_2*u.degree)\n",
    "    #idx_1, idx_2, d2d, d3d = c_2.search_around_sky(c_1, tol*u.deg)\n",
    "    #return idx_1, idx_2, d2d.value\n",
    "\n",
    "    max_sep = sep * u.deg\n",
    "    idx_1, d2d, d3d = c_2.match_to_catalog_3d(c_1)\n",
    "    sep_constraint = d2d < max_sep\n",
    "    idx_2 = np.nonzero(sep_constraint)[0]\n",
    "    idx_1 = idx_1[sep_constraint]\n",
    "    d2d = d2d[sep_constraint].value\n",
    "\n",
    "    if unique:\n",
    "        df = pd.DataFrame({'index': idx_1, 'sep': d2d})\n",
    "        #idx = df.groupby(['index']).idxmin('sep').values.astype(int)\n",
    "        idx = df.groupby(['index'])['sep'].idxmin().values.astype(int)\n",
    "        idx_1, idx_2, d2d = idx_1[idx], idx_2[idx], d2d[idx]\n",
    "\n",
    "    return idx_1, idx_2, d2d"
   ]
  },
  {
   "cell_type": "code",
   "execution_count": null,
   "metadata": {},
   "outputs": [],
   "source": [
    "gen2_ra = np.degrees(gen2_filtered_cat_dict['%s_%s'%(band, tract)].aggregate(np.median, 'coord_ra'))\n",
    "gen2_dec = np.degrees(gen2_filtered_cat_dict['%s_%s'%(band, tract)].aggregate(np.median, 'coord_dec'))\n",
    "gen3_ra = np.degrees(gen3_filtered_cat_dict['%s_%s'%(band, tract)].aggregate(np.median, 'coord_ra'))\n",
    "gen3_dec = np.degrees(gen3_filtered_cat_dict['%s_%s'%(band, tract)].aggregate(np.median, 'coord_dec'))\n",
    "gen2_e1 = gen2_filtered_cat_dict['%s_%s'%(band, tract)].aggregate(np.median, 'e1')\n",
    "gen3_e1 = gen3_filtered_cat_dict['%s_%s'%(band, tract)].aggregate(np.median, 'e1')\n",
    "gen2_psf_e1 = gen2_filtered_cat_dict['%s_%s'%(band, tract)].aggregate(np.median, 'psf_e1')\n",
    "gen3_psf_e1 = gen3_filtered_cat_dict['%s_%s'%(band, tract)].aggregate(np.median, 'psf_e1')\n",
    "gen2_e2 = gen2_filtered_cat_dict['%s_%s'%(band, tract)].aggregate(np.median, 'e2')\n",
    "gen3_e2 = gen3_filtered_cat_dict['%s_%s'%(band, tract)].aggregate(np.median, 'e2')\n",
    "gen2_psf_e2 = gen2_filtered_cat_dict['%s_%s'%(band, tract)].aggregate(np.median, 'psf_e2')\n",
    "gen3_psf_e2 = gen3_filtered_cat_dict['%s_%s'%(band, tract)].aggregate(np.median, 'psf_e2')\n",
    "gen2_object = gen2_filtered_cat_dict['%s_%s'%(band, tract)].aggregate(np.median, 'object')\n",
    "gen3_object = gen3_filtered_cat_dict['%s_%s'%(band, tract)].aggregate(np.median, 'object')"
   ]
  },
  {
   "cell_type": "code",
   "execution_count": null,
   "metadata": {},
   "outputs": [],
   "source": [
    "np.sum(gen2_psf_e2[gen2_index] != gen3_psf_e2[gen3_index]) / len(gen3_index)\n",
    "np.sum(gen2_e2[gen2_index] != gen3_e2[gen3_index]) / len(gen3_index)"
   ]
  },
  {
   "cell_type": "code",
   "execution_count": null,
   "metadata": {},
   "outputs": [],
   "source": [
    "gen2_index, gen3_index, angsep = match(gen2_ra, gen2_dec, gen3_ra, gen3_dec, 1/3600)"
   ]
  },
  {
   "cell_type": "code",
   "execution_count": null,
   "metadata": {},
   "outputs": [],
   "source": [
    "plt.figure()\n",
    "#plt.scatter(gen2_e1[gen2_index], gen3_e1[gen3_index])\n",
    "#plt.scatter(gen2_psf_e1[gen2_index], gen3_psf_e1[gen3_index])\n",
    "plt.scatter(gen2_psf_e2[gen2_index], gen3_psf_e2[gen3_index])"
   ]
  },
  {
   "cell_type": "code",
   "execution_count": null,
   "metadata": {},
   "outputs": [],
   "source": [
    "np.max(np.fabs(gen2_ra[gen2_index] - gen3_ra[gen3_index]))"
   ]
  },
  {
   "cell_type": "code",
   "execution_count": null,
   "metadata": {},
   "outputs": [],
   "source": [
    "def gen2AlignFilter(cat):\n",
    "    return np.all(np.in1d(cat.get('object'), gen2_object[gen2_index]))\n",
    "\n",
    "def gen3AlignFilter(cat):\n",
    "    return np.all(np.in1d(cat.get('object'), gen3_object[gen3_index]))"
   ]
  },
  {
   "cell_type": "code",
   "execution_count": null,
   "metadata": {},
   "outputs": [],
   "source": [
    "gen2_aligned_cat = gen2_filtered_cat_dict['%s_%s'%(band, tract)].where(gen2AlignFilter)\n",
    "gen3_aligned_cat = gen3_filtered_cat_dict['%s_%s'%(band, tract)].where(gen3AlignFilter)"
   ]
  },
  {
   "cell_type": "code",
   "execution_count": null,
   "metadata": {},
   "outputs": [],
   "source": [
    "plt.figure()\n",
    "plt.scatter(gen2_aligned_cat.aggregate(np.median, 'coord_ra'), \n",
    "            np.sort(gen2_aligned_cat.aggregate(np.median, 'coord_ra')) - np.sort(gen3_aligned_cat.aggregate(np.median, 'coord_ra')))"
   ]
  },
  {
   "cell_type": "code",
   "execution_count": null,
   "metadata": {},
   "outputs": [],
   "source": [
    "plt.figure()\n",
    "\n",
    "gen2_radius, gen2_xip, gen2_xip_err = correlation_function_ellipticity_from_matches(gen2_aligned_cat)\n",
    "plotXi(gen2_radius * 0.95, gen2_xip, gen2_xip_err, color='black', label='validate_drp AlignedCatalog')\n",
    "    \n",
    "gen3_radius, gen3_xip, gen3_xip_err = correlation_function_ellipticity_from_matches(gen3_aligned_cat)\n",
    "plotXi(gen3_radius, gen3_xip, gen3_xip_err, color='red', label='new_framework AlignedCatalog')\n",
    "\n",
    "plt.xscale('log')\n",
    "plt.yscale('log')\n",
    "plt.ylim(1.e-8, 1.e-3)\n",
    "\n",
    "plt.title('tract: %s, band: %s'%(tract, band))\n",
    "plt.xlabel('r (arcmin)')\n",
    "plt.ylabel('Residual Ellipticity Correlation')\n",
    "plt.legend(loc='upper right')"
   ]
  },
  {
   "cell_type": "code",
   "execution_count": null,
   "metadata": {},
   "outputs": [],
   "source": [
    "\n",
    "plt.figure(figsize=(6,6))\n",
    "plotRaDec(gen2_aligned_cat, label='validate_drp AlignedCatalog', marker='+')\n",
    "plotRaDec(gen3_aligned_cat, label='new_framework AlignedCatalog', marker='x')\n",
    "plt.title('tract: %s, band: %s'%(tract, band))\n",
    "plt.xlabel('RA')\n",
    "plt.ylabel('Dec')\n",
    "plt.legend(loc='upper right')"
   ]
  },
  {
   "cell_type": "markdown",
   "metadata": {},
   "source": [
    "### Testing Filtering"
   ]
  },
  {
   "cell_type": "code",
   "execution_count": null,
   "metadata": {},
   "outputs": [],
   "source": [
    "tract = 9813\n",
    "band =  'r'\n",
    "collection = 'kbechtol/svv_%s_gri_matched'%(tract)\n",
    "dataid = {'tract':tract, 'abstract_filter':band, 'instrument':'HSC', 'skymap':'hsc_rings_v1'}\n",
    "matchedCatalog = butler_gen3.get('matchedCatalogTract', collections=collection, dataId=dataid)\n",
    "print(len(matchedCatalog))"
   ]
  },
  {
   "cell_type": "code",
   "execution_count": null,
   "metadata": {},
   "outputs": [],
   "source": [
    "matchedCat.aggregate(np.median, 'base_PsfFlux_snr').shape"
   ]
  },
  {
   "cell_type": "code",
   "execution_count": null,
   "metadata": {},
   "outputs": [],
   "source": [
    "matchedCat = GroupView.build(matchedCatalog)\n",
    "print(matchedCat.count)\n",
    "print(len(matchedCat.groups))"
   ]
  },
  {
   "cell_type": "code",
   "execution_count": null,
   "metadata": {},
   "outputs": [],
   "source": [
    "filteredCat = filterMatches(matchedCatalog)#, snrMin=50)\n",
    "print(filteredCat.count)\n",
    "print(len(filteredCat.groups))\n",
    "#print(filteredCat.counts)"
   ]
  },
  {
   "cell_type": "code",
   "execution_count": null,
   "metadata": {},
   "outputs": [],
   "source": [
    "matchedCat.get('base_PsfFlux_snr')"
   ]
  },
  {
   "cell_type": "code",
   "execution_count": null,
   "metadata": {},
   "outputs": [],
   "source": [
    "filteredCat.get('base_PsfFlux_snr')"
   ]
  },
  {
   "cell_type": "code",
   "execution_count": null,
   "metadata": {},
   "outputs": [],
   "source": [
    "#matchedCatalog.columns.schema"
   ]
  },
  {
   "cell_type": "code",
   "execution_count": null,
   "metadata": {},
   "outputs": [],
   "source": [
    "matchedCatalog['base_PsfFlux_snr']\n",
    "matchedCatalog['base_ClassificationExtendedness_value'][0:100]"
   ]
  },
  {
   "cell_type": "code",
   "execution_count": null,
   "metadata": {},
   "outputs": [],
   "source": [
    "plt.figure()\n",
    "plt.yscale('log')\n",
    "plt.xscale('log')\n",
    "bins = np.logspace(-1, 4, 100)\n",
    "plt.hist(matchedCatalog['base_PsfFlux_snr'][matchedCatalog['base_ClassificationExtendedness_value'] == 0], bins=bins, histtype='step')\n",
    "plt.hist(matchedCatalog['base_PsfFlux_snr'][matchedCatalog['base_ClassificationExtendedness_value'] == 1], bins=bins, histtype='step')\n",
    "#plt.xlim(0.1, 1.e4)"
   ]
  },
  {
   "cell_type": "code",
   "execution_count": null,
   "metadata": {},
   "outputs": [],
   "source": [
    "def aggMean(x):\n",
    "    np.median(np.where(x)"
   ]
  },
  {
   "cell_type": "code",
   "execution_count": null,
   "metadata": {},
   "outputs": [],
   "source": [
    "x = np.arange(10)\n",
    "np.where(x > 5)[0]"
   ]
  },
  {
   "cell_type": "code",
   "execution_count": null,
   "metadata": {},
   "outputs": [],
   "source": [
    "base_PsfFlux_snr = matchedCat.aggregate(np.median, 'base_PsfFlux_snr')\n",
    "base_ClassificationExtendedness_value = matchedCat.aggregate(np.mean, 'base_ClassificationExtendedness_value')"
   ]
  },
  {
   "cell_type": "code",
   "execution_count": null,
   "metadata": {},
   "outputs": [],
   "source": [
    "base_ClassificationExtendedness_value[0:100]"
   ]
  },
  {
   "cell_type": "code",
   "execution_count": null,
   "metadata": {},
   "outputs": [],
   "source": [
    "plt.figure()\n",
    "plt.yscale('log')\n",
    "plt.xscale('log')\n",
    "bins = np.logspace(-1, 4, 100)\n",
    "plt.hist(base_PsfFlux_snr[base_ClassificationExtendedness_value > 0.5], bins=bins, histtype='step')\n",
    "plt.hist(base_PsfFlux_snr[base_ClassificationExtendedness_value < 0.5], bins=bins, histtype='step')"
   ]
  },
  {
   "cell_type": "markdown",
   "metadata": {},
   "source": [
    "### Testing plotting below"
   ]
  },
  {
   "cell_type": "code",
   "execution_count": null,
   "metadata": {},
   "outputs": [],
   "source": [
    "#tract = 9813\n",
    "tract = 9615\n",
    "band = 'r'\n",
    "collection = 'kbechtol/svv_%s_gri_matched'%(tract)\n",
    "dataid = {'tract':tract, 'abstract_filter':band, 'instrument':'HSC', 'skymap':'hsc_rings_v1'}\n",
    "butler_gen3.get('matchedCatalogTract', collections=collection, dataId=dataid)\n",
    "\n",
    "matchedCatalog = butler_gen3.getDirect(matched_catalog_tract_refs[0])\n",
    "\n",
    "filteredCat = filterMatches(matchedCatalog, snrMin=50)  \n",
    "\n",
    "print(len(matchedCatalog))\n",
    "print(len(filteredCat))"
   ]
  },
  {
   "cell_type": "code",
   "execution_count": null,
   "metadata": {},
   "outputs": [],
   "source": [
    "filteredCat.count"
   ]
  },
  {
   "cell_type": "code",
   "execution_count": null,
   "metadata": {},
   "outputs": [],
   "source": [
    "from lsst.afw.table import GroupView\n",
    "matchedCat = GroupView.build(matchedCatalog)"
   ]
  },
  {
   "cell_type": "code",
   "execution_count": null,
   "metadata": {},
   "outputs": [],
   "source": [
    "print(len(matchedCatalog))\n",
    "print(matchedCat.count)"
   ]
  },
  {
   "cell_type": "code",
   "execution_count": null,
   "metadata": {},
   "outputs": [],
   "source": [
    "radius, xip, xip_err = correlation_function_ellipticity_from_matches(filteredCat)"
   ]
  },
  {
   "cell_type": "code",
   "execution_count": null,
   "metadata": {},
   "outputs": [],
   "source": [
    "plt.figure()\n",
    "\n",
    "\n",
    "plotXi(radius, xip, xip_err, color='red')\n",
    "    \n",
    "if gen2_measurement:\n",
    "    plotXi(gen2_measurement['%s_%s'%(band, tract)].extras['radius'].quantity,\n",
    "           gen2_measurement['%s_%s'%(band, tract)].extras['xi'].quantity, \n",
    "           gen2_measurement['%s_%s'%(band, tract)].extras['xi_err'].quantity, color='blue')\n",
    "\n",
    "#plt.errorbar(radius.value, xip, yerr=np.where(xip > 0, xip_err, 0), \n",
    "#                marker='o', c='none', mfc='black', mec='black', ecolor='black', barsabove=True)\n",
    "#plt.errorbar(radius.value, -1 * xip, yerr=np.where(xip < 0, xip_err, 0), \n",
    "#                 marker='o', c='none', ls='--', mfc='none', mec='black', ecolor='black', barsabove=True)\n",
    "\n",
    "xlim = plt.xlim()\n",
    "plt.xscale('log')\n",
    "plt.yscale('log')\n",
    "plt.ylim(1.e-8, 1.e-3)\n",
    "\n",
    "key = '%s_%s_%s'%(band, tract, metric)\n",
    "if gen2_measurement:\n",
    "    plt.hlines(gen2_measurement['%s_%s_%s'%(band, tract, 'TE1')].quantity.value, \n",
    "               color='blue', xmin=0., xmax=1.)\n",
    "    plt.hlines(gen2_measurement['%s_%s_%s'%(band, tract, 'TE2')].quantity.value, \n",
    "               color='blue', xmin=5., xmax=100., label='validate_drp')\n",
    "if gen3_measurement:\n",
    "    plt.hlines(gen3_measurement['%s_%s_%s'%(band, tract, 'TE1')].quantity.value, \n",
    "               color='red', xmin=0., xmax=1., ls='--')\n",
    "    plt.hlines(gen3_measurement['%s_%s_%s'%(band, tract, 'TE2')].quantity.value, \n",
    "               color='red', xmin=5., xmax=100., ls='--', label='new framework')\n",
    "    \n",
    "plt.axvspan(5., xlim[-1], color='0.9')\n",
    "plt.axvspan(xlim[0], 1., color='0.9')\n",
    "plt.xlim(xlim)\n",
    "\n",
    "plt.title('tract: %s, band: %s'%(tract, band))\n",
    "plt.xlabel('r (arcmin)')\n",
    "plt.ylabel('Residual Ellipticity Correlation')\n",
    "plt.legend(loc='upper right')"
   ]
  },
  {
   "cell_type": "markdown",
   "metadata": {},
   "source": [
    "# Comparison of Matched Catalogs"
   ]
  },
  {
   "cell_type": "code",
   "execution_count": null,
   "metadata": {},
   "outputs": [],
   "source": [
    "import fitsio"
   ]
  },
  {
   "cell_type": "code",
   "execution_count": null,
   "metadata": {},
   "outputs": [],
   "source": [
    "infile = '/project/jcarlin/matched_cats/RC2_tract9813_HSC-I_matched_cat_validateDrp.fits'\n",
    "f = fitsio.FITS(infile)"
   ]
  },
  {
   "cell_type": "code",
   "execution_count": null,
   "metadata": {},
   "outputs": [],
   "source": [
    "data = f[1].read()"
   ]
  },
  {
   "cell_type": "code",
   "execution_count": null,
   "metadata": {},
   "outputs": [],
   "source": [
    "data['coord_ra']"
   ]
  },
  {
   "cell_type": "code",
   "execution_count": null,
   "metadata": {},
   "outputs": [],
   "source": [
    "from lsst.afw.table import MultiMatch, BaseCatalog, Catalog, SimpleCatalog, GroupView\n",
    "#lsst.afw.table.readFits('/project/jcarlin/matched_cats/RC2_tract9813_HSC-I_matched_cat_validateDrp.fits')"
   ]
  },
  {
   "cell_type": "code",
   "execution_count": null,
   "metadata": {},
   "outputs": [],
   "source": []
  },
  {
   "cell_type": "code",
   "execution_count": null,
   "metadata": {},
   "outputs": [],
   "source": [
    "data = BaseCatalog.readFits(infile)"
   ]
  },
  {
   "cell_type": "code",
   "execution_count": null,
   "metadata": {},
   "outputs": [],
   "source": [
    "data.schema.getNames()"
   ]
  },
  {
   "cell_type": "code",
   "execution_count": null,
   "metadata": {},
   "outputs": [],
   "source": [
    "help(MultiMatch.makeRecord)"
   ]
  },
  {
   "cell_type": "code",
   "execution_count": null,
   "metadata": {},
   "outputs": [],
   "source": [
    "mmatch = MultiMatch.makeRecord(data.Record, 'id', 'object')"
   ]
  },
  {
   "cell_type": "code",
   "execution_count": null,
   "metadata": {},
   "outputs": [],
   "source": [
    "dir(data)"
   ]
  },
  {
   "cell_type": "code",
   "execution_count": null,
   "metadata": {},
   "outputs": [],
   "source": [
    "data.Record"
   ]
  },
  {
   "cell_type": "code",
   "execution_count": null,
   "metadata": {},
   "outputs": [],
   "source": [
    "MultiMatch(data.schema, {}, idField='id')"
   ]
  },
  {
   "cell_type": "code",
   "execution_count": null,
   "metadata": {},
   "outputs": [],
   "source": [
    "from lsst.afw.table import SimpleCatalog, GroupView\n",
    "\n",
    "#infile = '/project/jcarlin/matched_cats/RC2_tract9813_HSC-I_matched_cat_validateDrp.fits'\n",
    "infile = '/project/jcarlin/matched_cats/no_ext_calib/RC2_tract9813_HSC-I_matched_cat_validateDrp.fits'\n",
    "matchedCatalog = SimpleCatalog.readFits(infile)\n",
    "matchedCat = GroupView.build(matchedCatalog)"
   ]
  },
  {
   "cell_type": "code",
   "execution_count": null,
   "metadata": {},
   "outputs": [],
   "source": [
    "filteredCat = filterMatches(matchedCatalog, snrMin=50)"
   ]
  },
  {
   "cell_type": "code",
   "execution_count": null,
   "metadata": {},
   "outputs": [],
   "source": [
    "print(len(matchedCat))\n",
    "print(len(filteredCat))"
   ]
  },
  {
   "cell_type": "markdown",
   "metadata": {},
   "source": [
    "# CODE SCRAPS\n",
    "---"
   ]
  },
  {
   "cell_type": "markdown",
   "metadata": {},
   "source": [
    "# Which version of the Stack am I using?\n",
    "!eups list -s | grep lsst_distrib"
   ]
  },
  {
   "cell_type": "markdown",
   "metadata": {},
   "source": [
    "Note that to access the `metric-pipeline-tasks` modules, one can setup the repo in the `~/notebooks/.user_setups`, for example:\n",
    "\n",
    "`setup -k -r ~/repos/metric-pipeline-tasks`"
   ]
  },
  {
   "cell_type": "code",
   "execution_count": null,
   "metadata": {},
   "outputs": [],
   "source": [
    "import numpy as np\n",
    "import json\n",
    "import os\n",
    "from astropy.table import Table\n",
    "from astropy import units as u\n",
    "import matplotlib.pyplot as plt\n",
    "%matplotlib widget\n",
    "\n",
    "import lsst.verify\n",
    "import lsst.daf.butler as dafButler\n",
    "from lsst.validate.drp.calcsrd.tex import (correlation_function_ellipticity_from_matches,\n",
    "                                           select_bin_from_corr)\n",
    "from metric_pipeline_utils.filtermatches import filterMatches"
   ]
  },
  {
   "cell_type": "markdown",
   "metadata": {},
   "source": [
    "## validate_drp"
   ]
  },
  {
   "cell_type": "code",
   "execution_count": null,
   "metadata": {},
   "outputs": [],
   "source": [
    "# Output from a run of validate_drp:\n",
    "validate_job_g9813 = '/datasets/hsc/repo/rerun/RC/w_2020_34/DM-26441/validateDrp/matchedVisitMetrics/9813/HSC-G/matchedVisit_HSC-G.json'\n",
    "validate_job_r9813 = '/datasets/hsc/repo/rerun/RC/w_2020_34/DM-26441/validateDrp/matchedVisitMetrics/9813/HSC-R/matchedVisit_HSC-R.json'\n",
    "validate_job_i9813 = '/datasets/hsc/repo/rerun/RC/w_2020_34/DM-26441/validateDrp/matchedVisitMetrics/9813/HSC-I/matchedVisit_HSC-I.json'"
   ]
  },
  {
   "cell_type": "code",
   "execution_count": null,
   "metadata": {},
   "outputs": [],
   "source": [
    "# Read in the .json saved by each validate_drp run:\n",
    "with open(validate_job_g9813) as f:\n",
    "    job_g9813 = lsst.verify.Job.deserialize(**json.load(f))\n",
    "with open(validate_job_r9813) as f:\n",
    "    job_r9813 = lsst.verify.Job.deserialize(**json.load(f))\n",
    "with open(validate_job_i9813) as f:\n",
    "    job_i9813 = lsst.verify.Job.deserialize(**json.load(f))"
   ]
  },
  {
   "cell_type": "code",
   "execution_count": null,
   "metadata": {},
   "outputs": [],
   "source": [
    "# Show a metric report in the notebook (use \"spec_tags\" to specify design, stretch, or minimum req level):\n",
    "job_g9813.report(spec_tags=['design']).show()"
   ]
  },
  {
   "cell_type": "code",
   "execution_count": null,
   "metadata": {},
   "outputs": [],
   "source": [
    "# Extract the measurements from the JSON:\n",
    "meas_g9813 = job_g9813.measurements.json\n",
    "meas_r9813 = job_r9813.measurements.json\n",
    "meas_i9813 = job_i9813.measurements.json"
   ]
  },
  {
   "cell_type": "code",
   "execution_count": null,
   "metadata": {},
   "outputs": [],
   "source": [
    "meas_r9813[0]"
   ]
  },
  {
   "cell_type": "code",
   "execution_count": null,
   "metadata": {},
   "outputs": [],
   "source": [
    "print(job_g9813.measurements['validate_drp.TE1'].quantity)\n",
    "print(job_g9813.measurements['validate_drp.TE2'].quantity)"
   ]
  },
  {
   "cell_type": "code",
   "execution_count": null,
   "metadata": {},
   "outputs": [],
   "source": [
    "def getGen2Measurement(band, tract, metric):\n",
    "    infile = '/datasets/hsc/repo/rerun/RC/w_2020_34/DM-26441/validateDrp/matchedVisitMetrics/%s/HSC-%s/matchedVisit_HSC-%s.json'%(tract, \n",
    "                                                                                                                                  band.upper(), \n",
    "                                                                                                                                  band.upper())\n",
    "    with open(infile) as f:\n",
    "        job = lsst.verify.Job.deserialize(**json.load(f))\n",
    "    measurement = job.measurements['validate_drp.%s'%(metric)].quantity\n",
    "    return measurement"
   ]
  },
  {
   "cell_type": "code",
   "execution_count": null,
   "metadata": {},
   "outputs": [],
   "source": [
    "tract = 9813\n",
    "band = 'r'\n",
    "infile = '/datasets/hsc/repo/rerun/RC/w_2020_34/DM-26441/validateDrp/matchedVisitMetrics/%s/HSC-%s/matchedVisit_HSC-%s.json'%(tract, \n",
    "                                                                                                                              band.upper(), \n",
    "                                                                                                                              band.upper())\n",
    "with open(infile) as f:\n",
    "    j = json.load(f)\n",
    "    #job = lsst.verify.Job.deserialize(**json.load(f))"
   ]
  },
  {
   "cell_type": "code",
   "execution_count": null,
   "metadata": {},
   "outputs": [],
   "source": [
    "#j['measurements']"
   ]
  },
  {
   "cell_type": "code",
   "execution_count": null,
   "metadata": {},
   "outputs": [],
   "source": [
    "# This takes several minutes to run\n",
    "\n",
    "tract_array = [9813, 9615, 9697]\n",
    "band_array = ['g', 'r', 'i']\n",
    "metric_array = ['TE1', 'TE2']\n",
    "gen2_measurement = {}\n",
    "\n",
    "for tract in tract_array:\n",
    "    for band in band_array:\n",
    "        for metric in metric_array:\n",
    "            measurement = getGen2Measurement(band, tract, metric)\n",
    "            print(band, tract, metric, measurement)\n",
    "            gen2_measurement['%s_%s_%s'%(band, tract, metric)] = measurement"
   ]
  },
  {
   "cell_type": "code",
   "execution_count": null,
   "metadata": {},
   "outputs": [],
   "source": [
    "gen2_measurement"
   ]
  },
  {
   "cell_type": "code",
   "execution_count": null,
   "metadata": {},
   "outputs": [],
   "source": [
    "# Compile the measurements into arrays:\n",
    "\n",
    "gen2_names_g9813 = []\n",
    "gen2_vals_g9813 = []\n",
    "gen2_units_g9813 = []\n",
    "\n",
    "for met in meas_g9813:\n",
    "    # print(met['metric'], met['value'], met['unit'])\n",
    "    gen2_names_g9813.append(met['metric'])\n",
    "    gen2_vals_g9813.append(met['value'])\n",
    "    gen2_units_g9813.append(met['unit'])\n",
    "    \n",
    "gen2_names_r9813 = []\n",
    "gen2_vals_r9813 = []\n",
    "gen2_units_r9813 = []\n",
    "\n",
    "for met in meas_r9813:\n",
    "    # print(met['metric'], met['value'], met['unit'])\n",
    "    gen2_names_r9813.append(met['metric'])\n",
    "    gen2_vals_r9813.append(met['value'])\n",
    "    gen2_units_r9813.append(met['unit'])\n",
    "    \n",
    "gen2_names_i9813 = []\n",
    "gen2_vals_i9813 = []\n",
    "gen2_units_i9813 = []\n",
    "\n",
    "for met in meas_i9813:\n",
    "    # print(met['metric'], met['value'], met['unit'])\n",
    "    gen2_names_i9813.append(met['metric'])\n",
    "    gen2_vals_i9813.append(met['value'])\n",
    "    gen2_units_i9813.append(met['unit'])"
   ]
  },
  {
   "cell_type": "code",
   "execution_count": null,
   "metadata": {},
   "outputs": [],
   "source": [
    "# Make the arrays into astropy tables:\n",
    "tab_gen2_g9813 = Table([gen2_names_g9813, gen2_vals_g9813, gen2_units_g9813], names=['metric', 'value', 'units'], dtype=(str, 'f2', str))\n",
    "tab_gen2_r9813 = Table([gen2_names_r9813, gen2_vals_r9813, gen2_units_r9813], names=['metric', 'value', 'units'], dtype=(str, 'f2', str))\n",
    "tab_gen2_i9813 = Table([gen2_names_i9813, gen2_vals_i9813, gen2_units_i9813], names=['metric', 'value', 'units'], dtype=(str, 'f2', str))"
   ]
  },
  {
   "cell_type": "code",
   "execution_count": null,
   "metadata": {},
   "outputs": [],
   "source": [
    "tab_gen2_r9813"
   ]
  },
  {
   "cell_type": "code",
   "execution_count": null,
   "metadata": {},
   "outputs": [],
   "source": [
    "for name in tab_gen2_r9813['metric']: print(name)"
   ]
  },
  {
   "cell_type": "code",
   "execution_count": null,
   "metadata": {},
   "outputs": [],
   "source": [
    "np.where(np.char.find(tab_gen2_r9813['metric'], 'TE1') >= 0)"
   ]
  },
  {
   "cell_type": "code",
   "execution_count": null,
   "metadata": {},
   "outputs": [],
   "source": [
    "def getMetricValue(metric_name):\n",
    "    find_in_tab2 = np.where(np.char.find(tab_gen2_r9813['metric'], name) >= 0)"
   ]
  },
  {
   "cell_type": "markdown",
   "metadata": {},
   "source": [
    "## New Framework"
   ]
  },
  {
   "cell_type": "code",
   "execution_count": null,
   "metadata": {},
   "outputs": [],
   "source": [
    "repo = '/project/hsc/gen3repo/rc2w34_ssw36/'\n",
    "config = os.path.join(repo,'butler.yaml')\n",
    "try: butler_gen3 = dafButler.Butler(config=config)\n",
    "except ValueError as e: print(e)"
   ]
  },
  {
   "cell_type": "code",
   "execution_count": null,
   "metadata": {},
   "outputs": [],
   "source": [
    "registry = butler_gen3.registry"
   ]
  },
  {
   "cell_type": "code",
   "execution_count": null,
   "metadata": {},
   "outputs": [],
   "source": [
    "# To see what collections are in the repo:\n",
    "for c in registry.queryCollections():\n",
    "    print(c)"
   ]
  },
  {
   "cell_type": "code",
   "execution_count": null,
   "metadata": {},
   "outputs": [],
   "source": [
    "# To see what dataset types are (potentially) available:\n",
    "dstypes = []\n",
    "for x in registry.queryDatasetTypes():\n",
    "    print(x)\n",
    "    dstypes.append(x)"
   ]
  },
  {
   "cell_type": "code",
   "execution_count": null,
   "metadata": {},
   "outputs": [],
   "source": [
    "collection = 'kbechtol/svv_9813_gri_matched'"
   ]
  },
  {
   "cell_type": "code",
   "execution_count": null,
   "metadata": {},
   "outputs": [],
   "source": [
    "def getMetricValueDatasetTypes(butler):\n",
    "    registry = butler.registry\n",
    "    d_types = []\n",
    "    for d_type in registry.queryDatasetTypes():\n",
    "        if d_type.storageClass.name == 'MetricValue':\n",
    "            d_types.append(d_type)\n",
    "    return d_types"
   ]
  },
  {
   "cell_type": "code",
   "execution_count": null,
   "metadata": {},
   "outputs": [],
   "source": [
    "getMetricValueDatasetTypes(butler_gen3)"
   ]
  },
  {
   "cell_type": "code",
   "execution_count": null,
   "metadata": {},
   "outputs": [],
   "source": [
    "band = 'r'\n",
    "\n",
    "matched_catalog_refs = list(registry.queryDatasets('matchedCatalog', collections=collection, abstract_filter=band))\n",
    "matched_catalog_tract_refs = list(registry.queryDatasets('matchedCatalogTract', collections=collection, abstract_filter=band))\n",
    "te1_refs = list(registry.queryDatasets('metricvalue_validate_drp_TE1', collections=collection, abstract_filter=band))\n",
    "summary_te1_refs = list(registry.queryDatasets('metricvalue_summary_validate_drp_TE1', collections=collection, abstract_filter=band))"
   ]
  },
  {
   "cell_type": "code",
   "execution_count": null,
   "metadata": {},
   "outputs": [],
   "source": [
    "te1_refs"
   ]
  },
  {
   "cell_type": "code",
   "execution_count": null,
   "metadata": {},
   "outputs": [],
   "source": [
    "te1_measurements = [butler_gen3.getDirect(ref).quantity for ref in te1_refs]\n",
    "te1_measurements"
   ]
  },
  {
   "cell_type": "code",
   "execution_count": null,
   "metadata": {},
   "outputs": [],
   "source": [
    "def getGen3Measurement(band, tract, metric):\n",
    "    #refs = list(registry.queryDatasets('metricvalue_validate_drp_%s'%(metric), collections=collection, abstract_filter=band, data))\n",
    "    dataid = {'tract':tract, 'abstract_filter':band, 'instrument':'HSC', 'skymap':'hsc_rings_v1'}\n",
    "    #assert len(refs) == 1\n",
    "    #measurement = butler_gen3.getDirect(refs[0]).quantity\n",
    "    collection = 'kbechtol/svv_%s_gri_matched'%(tract)\n",
    "    measurement = butler_gen3.get('metricvalue_validate_drp_%s'%(metric), \n",
    "                                  collections=collection, dataId=dataid).quantity\n",
    "    return measurement"
   ]
  },
  {
   "cell_type": "code",
   "execution_count": null,
   "metadata": {},
   "outputs": [],
   "source": [
    "#tract = 9813 \n",
    "tract = 9615\n",
    "#tract = 9697\n",
    "metric = 'TE1'\n",
    "measurement = getGen3Measurement(band, tract, metric)\n",
    "print(measurement)"
   ]
  },
  {
   "cell_type": "code",
   "execution_count": null,
   "metadata": {},
   "outputs": [],
   "source": [
    "tract_array = [9813, 9615, 9697]\n",
    "band_array = ['g', 'r', 'i']\n",
    "metric_array = ['TE1', 'TE2']\n",
    "gen3_measurement = {}\n",
    "\n",
    "for tract in tract_array:\n",
    "    for band in band_array:\n",
    "        for metric in metric_array:\n",
    "            measurement = getGen3Measurement(band, tract, metric)\n",
    "            print(measurement)\n",
    "            gen3_measurement['%s_%s_%s'%(band, tract, metric)] = measurement"
   ]
  },
  {
   "cell_type": "code",
   "execution_count": null,
   "metadata": {},
   "outputs": [],
   "source": [
    "gen3_measurement"
   ]
  },
  {
   "cell_type": "code",
   "execution_count": null,
   "metadata": {},
   "outputs": [],
   "source": [
    "\"\"\"\"\n",
    "te1_measurements = [butler_gen3.getDirect(ref).quantity for ref in te1_refs]\n",
    "for ref, measurement in zip(te1_refs, te1_measurements):\n",
    "    print('Tract %3i:%10.2e %s'%(ref.dataId['tract'],\n",
    "                                 measurement.value, \n",
    "                                 measurement.unit))\n",
    "\n",
    "te1_measurements = u.Quantity(te1_measurements)\n",
    "\"\"\"\n",
    "\n",
    "te1_measurement = butler_gen3.getDirect(te1_refs[0]).quantity\n",
    "summary_te1_measurement = butler_gen3.getDirect(summary_te1_refs[0]).quantity\n",
    "    \n",
    "plt.figure()\n",
    "#plt.hist(te1_measurements.value[~np.isnan(te1_measurements)])\n",
    "#plt.axvline(te1_measurements.value[~np.isnan(te1_measurements)])\n",
    "plt.axvline(te1_measurement.value, c='red')\n",
    "plt.axvline(summary_te1_measurement.value, c='blue')\n",
    "plt.axvline(job_r9813.measurements['validate_drp.TE1'].quantity, c='black')\n",
    "plt.xlabel('TE1 (%s)'%(te1_measurement.unit))\n",
    "plt.ylabel('Counts')\n",
    "plt.xlim(1.e-7, 1.e-4)\n",
    "plt.xscale('log')"
   ]
  },
  {
   "cell_type": "code",
   "execution_count": null,
   "metadata": {},
   "outputs": [],
   "source": []
  },
  {
   "cell_type": "code",
   "execution_count": null,
   "metadata": {},
   "outputs": [],
   "source": [
    "matchedCatalog = butler_gen3.getDirect(matched_catalog_tract_refs[0])"
   ]
  },
  {
   "cell_type": "code",
   "execution_count": null,
   "metadata": {},
   "outputs": [],
   "source": [
    "print('%.2e'%len(matchedCatalog))"
   ]
  },
  {
   "cell_type": "code",
   "execution_count": null,
   "metadata": {},
   "outputs": [],
   "source": [
    "matchedCatalog"
   ]
  },
  {
   "cell_type": "code",
   "execution_count": null,
   "metadata": {},
   "outputs": [],
   "source": [
    "filteredCat = filterMatches(matchedCatalog, snrMin=50)"
   ]
  },
  {
   "cell_type": "code",
   "execution_count": null,
   "metadata": {},
   "outputs": [],
   "source": [
    "print(filteredCat.count)"
   ]
  },
  {
   "cell_type": "code",
   "execution_count": null,
   "metadata": {},
   "outputs": [],
   "source": [
    "dir(filteredCat)"
   ]
  },
  {
   "cell_type": "code",
   "execution_count": null,
   "metadata": {},
   "outputs": [],
   "source": [
    "#filteredCat = filterMatches(matchedCatalog)\n",
    "#nMinTEx = 50\n",
    "#if filteredCat.count <= nMinTEx:\n",
    "#    return Struct(measurement=Measurement(metric_name, np.nan*u.Unit('')))\n",
    "\n",
    "radius, xip, xip_err = correlation_function_ellipticity_from_matches(filteredCat)"
   ]
  },
  {
   "cell_type": "code",
   "execution_count": null,
   "metadata": {},
   "outputs": [],
   "source": [
    "xip"
   ]
  },
  {
   "cell_type": "code",
   "execution_count": null,
   "metadata": {},
   "outputs": [],
   "source": [
    "xip_err"
   ]
  },
  {
   "cell_type": "code",
   "execution_count": null,
   "metadata": {},
   "outputs": [],
   "source": [
    "xip / xip_err"
   ]
  },
  {
   "cell_type": "code",
   "execution_count": null,
   "metadata": {},
   "outputs": [],
   "source": [
    "plt.figure()\n",
    "plt.scatter(radius, np.fabs(xip / xip_err))\n",
    "plt.xscale('log')"
   ]
  },
  {
   "cell_type": "code",
   "execution_count": null,
   "metadata": {},
   "outputs": [],
   "source": [
    "plt.figure()\n",
    "#plt.scatter(radius, np.fabs(xip))\n",
    "#plt.plot(radius, xip)\n",
    "#plt.plot(radius, -1. * xip)\n",
    "plt.errorbar(radius.value, xip, yerr=np.where(xip > 0, xip_err, 0), \n",
    "            marker='o', c='none', mfc='black', mec='black', ecolor='black', barsabove=True)\n",
    "plt.errorbar(radius.value, -1 * xip, yerr=np.where(xip < 0, xip_err, 0), \n",
    "             marker='o', c='none', ls='--', mfc='none', mec='black', ecolor='black', barsabove=True)\n",
    "plt.hlines(te1_measurement.value, color='red', xmin=0., xmax=1.)\n",
    "plt.hlines(job_r9813.measurements['validate_drp.TE1'].quantity, color='black', xmin=0., xmax=1.)\n",
    "plt.hlines(te2_measurement.value, color='red', xmin=5., xmax=100.)\n",
    "plt.hlines(job_r9813.measurements['validate_drp.TE2'].quantity, color='black', xmin=5., xmax=100.)\n",
    "plt.xscale('log')\n",
    "plt.yscale('log')\n",
    "xlim = plt.xlim()\n",
    "plt.ylim(1.e-8, 1.e-3)\n",
    "plt.axvspan(5., plt.xlim()[-1], color='0.9')\n",
    "plt.axvspan(plt.xlim()[0], 1., color='0.9')\n",
    "plt.xlim(xlim)"
   ]
  },
  {
   "cell_type": "code",
   "execution_count": null,
   "metadata": {},
   "outputs": [],
   "source": []
  }
 ],
 "metadata": {
  "kernelspec": {
   "display_name": "LSST",
   "language": "python",
   "name": "lsst"
  },
  "language_info": {
   "codemirror_mode": {
    "name": "ipython",
    "version": 3
   },
   "file_extension": ".py",
   "mimetype": "text/x-python",
   "name": "python",
   "nbconvert_exporter": "python",
   "pygments_lexer": "ipython3",
   "version": "3.7.8"
  }
 },
 "nbformat": 4,
 "nbformat_minor": 4
}
