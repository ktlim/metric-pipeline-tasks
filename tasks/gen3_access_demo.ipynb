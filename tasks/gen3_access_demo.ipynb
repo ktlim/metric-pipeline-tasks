{
 "cells": [
  {
   "cell_type": "markdown",
   "metadata": {},
   "source": [
    "## Butler Access to Intermediate Data Products used for Verification Analyses\n",
    "\n",
    "This is a simple example notebook to demonstrate how to access the intermediate data products with the Gen-3 butler"
   ]
  },
  {
   "cell_type": "code",
   "execution_count": null,
   "metadata": {},
   "outputs": [],
   "source": [
    "import os\n",
    "import pylab\n",
    "\n",
    "# Stack imports\n",
    "import lsst.daf.butler as dafButler"
   ]
  },
  {
   "cell_type": "code",
   "execution_count": null,
   "metadata": {},
   "outputs": [],
   "source": [
    "# Which version of the Stack am I using?\n",
    "!eups list -s | grep lsst_distrib"
   ]
  },
  {
   "cell_type": "code",
   "execution_count": null,
   "metadata": {},
   "outputs": [],
   "source": [
    "repo = '/home/kbechtol/DATA/ci_hsc_gen3'\n",
    "\n",
    "config = os.path.join(repo,'DATA','butler.yaml')\n",
    "\n",
    "\n",
    "try: butler = dafButler.Butler(config=config)\n",
    "except ValueError as e: print(e)\n",
    "\n",
    "butler = dafButler.Butler(config=config)\n",
    "registry = butler.registry"
   ]
  },
  {
   "cell_type": "code",
   "execution_count": null,
   "metadata": {},
   "outputs": [],
   "source": [
    "for c in registry.queryCollections():\n",
    "    print(c)"
   ]
  },
  {
   "cell_type": "code",
   "execution_count": null,
   "metadata": {},
   "outputs": [],
   "source": [
    "for x in registry.queryDatasetTypes():\n",
    "    print(x)"
   ]
  },
  {
   "cell_type": "code",
   "execution_count": null,
   "metadata": {},
   "outputs": [],
   "source": [
    "# Yes, you really do need to specify the collections argument\n",
    "#dataids = [x.dataId for x in registry.queryDatasets('matchedCatalog')] \n",
    "dataids = [x.dataId for x in registry.queryDatasets('matchedCatalog', collections='matchedTest')]\n",
    "dataids[0]"
   ]
  },
  {
   "cell_type": "code",
   "execution_count": null,
   "metadata": {},
   "outputs": [],
   "source": [
    "matched_catalog = butler.get('matchedCatalog', collections='matchedTest', dataId=dataids[0])"
   ]
  },
  {
   "cell_type": "code",
   "execution_count": null,
   "metadata": {},
   "outputs": [],
   "source": [
    "pylab.figure()\n",
    "pylab.scatter(matched_catalog['coord_ra'], matched_catalog['coord_dec'], \n",
    "              marker='.', edgecolor='none') \n",
    "pylab.xlabel('RA (deg)')\n",
    "pylab.ylabel('Dec (deg)')"
   ]
  },
  {
   "cell_type": "code",
   "execution_count": null,
   "metadata": {},
   "outputs": [],
   "source": []
  }
 ],
 "metadata": {
  "kernelspec": {
   "display_name": "LSST",
   "language": "python",
   "name": "lsst"
  },
  "language_info": {
   "codemirror_mode": {
    "name": "ipython",
    "version": 3
   },
   "file_extension": ".py",
   "mimetype": "text/x-python",
   "name": "python",
   "nbconvert_exporter": "python",
   "pygments_lexer": "ipython3",
   "version": "3.7.6"
  }
 },
 "nbformat": 4,
 "nbformat_minor": 4
}
