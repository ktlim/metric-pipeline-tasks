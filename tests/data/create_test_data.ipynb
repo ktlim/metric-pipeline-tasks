{
 "cells": [
  {
   "cell_type": "markdown",
   "metadata": {},
   "source": [
    "# Creating Datasets for Faro Unit Testing\n",
    "\n",
    "This notebook steps through the process of extracting a small set of data to use for `faro` unit testing."
   ]
  },
  {
   "cell_type": "code",
   "execution_count": null,
   "metadata": {},
   "outputs": [],
   "source": [
    "# Which version of the Stack am I using?\n",
    "!eups list -s | grep lsst_distrib"
   ]
  },
  {
   "cell_type": "code",
   "execution_count": null,
   "metadata": {},
   "outputs": [],
   "source": [
    "import glob\n",
    "import os\n",
    "\n",
    "import lsst.daf.butler as dafButler"
   ]
  },
  {
   "cell_type": "markdown",
   "metadata": {},
   "source": [
    "## Preliminaries\n",
    "\n",
    "Use the ci_hsc_gen3\n",
    "\n",
    "(1) Set up [testdata_ci_hsc](https://github.com/lsst/testdata_ci_hsc) following README instructions.\n",
    "\n",
    "(2) Set up [ci_hsc_gen3](https://github.com/lsst/ci_hsc_gen3) following README instructions.\n",
    "\n",
    "(3) Run `faro`. First, set up the package.\n",
    "\n",
    "```\n",
    "cd repos/metric-pipeline-tasks\n",
    "setup -k -r .\n",
    "```\n",
    "\n",
    "Run the single-band matched catalogs and metrics:\n",
    "\n",
    "```\n",
    "pipetask run -j 12 -b \"$CI_HSC_GEN3_DIR\"/DATA/butler.yaml --register-dataset-types -p pipelines/metrics_pipeline_matched.yaml --output kbechtol/matched -i HSC/runs/ci_hsc\n",
    "```\n",
    "\n",
    "Run the multi-band matched catalogs and metrics:\n",
    "\n",
    "```\n",
    "pipetask run -j 12 -b \"$CI_HSC_GEN3_DIR\"/DATA/butler.yaml --register-dataset-types -p pipelines/metrics_pipeline_matched_multi.yaml --output kbechtol/matched_multi -i HSC/runs/ci_hsc\n",
    "```"
   ]
  },
  {
   "cell_type": "markdown",
   "metadata": {},
   "source": [
    "## Extract Measurements\n",
    "\n",
    "Access the `.yaml` containing metric results."
   ]
  },
  {
   "cell_type": "code",
   "execution_count": null,
   "metadata": {},
   "outputs": [],
   "source": [
    "# This is a local version of ci_hsc_gen3\n",
    "repo = '/home/kbechtol/DATA/ci_hsc_gen3/DATA/'"
   ]
  },
  {
   "cell_type": "code",
   "execution_count": null,
   "metadata": {},
   "outputs": [],
   "source": [
    "#repo = '/project/hsc/gen3repo/rc2v21_0_0_rc1_ssw48/'\n",
    "#repo = '/project/krughoff/repos/ci_hsc_gen3/DATA/'\n",
    "config = os.path.join(repo,'butler.yaml')\n",
    "try: butler = dafButler.Butler(config=config)\n",
    "except ValueError as e: print(e)"
   ]
  },
  {
   "cell_type": "code",
   "execution_count": null,
   "metadata": {},
   "outputs": [],
   "source": [
    "butler"
   ]
  },
  {
   "cell_type": "code",
   "execution_count": null,
   "metadata": {},
   "outputs": [],
   "source": [
    "registry = butler.registry"
   ]
  },
  {
   "cell_type": "code",
   "execution_count": null,
   "metadata": {},
   "outputs": [],
   "source": [
    "for x in registry.queryCollections():\n",
    "    print(x)"
   ]
  },
  {
   "cell_type": "code",
   "execution_count": null,
   "metadata": {},
   "outputs": [],
   "source": [
    "for x in registry.queryDatasetTypes(): \n",
    "    print(x)"
   ]
  },
  {
   "cell_type": "code",
   "execution_count": null,
   "metadata": {},
   "outputs": [],
   "source": [
    "path = '/home/kbechtol/DATA/ci_hsc_gen3/DATA/kbechtol/matched/20210127T041304Z'\n",
    "yaml_files = glob.glob(path + \"/**/*.yaml\", recursive = True)\n",
    "for file in yaml_files:\n",
    "    #if '_0_70_' not in file:\n",
    "    #    continue\n",
    "    if 'metadata' in file:\n",
    "        continue\n",
    "    new_name = file.replace('_discrete_ci_hsc_kbechtol_matched_20210127T041304Z', '')\n",
    "    print(os.path.basename(new_name))"
   ]
  },
  {
   "cell_type": "code",
   "execution_count": null,
   "metadata": {},
   "outputs": [],
   "source": [
    "help(butler)"
   ]
  },
  {
   "cell_type": "code",
   "execution_count": null,
   "metadata": {},
   "outputs": [],
   "source": [
    "def getMeasurementFilenames(butler, collections):\n",
    "    registry = butler.registry\n",
    "    paths = []\n",
    "    outfiles = []\n",
    "    for x in registry.queryDatasetTypes(): \n",
    "        if x.storageClass.name == 'MetricValue':\n",
    "            #print(x.name, x.dimensions, 'patch' in x.dimensions)\n",
    "            refs = list(registry.queryDatasets(x.name, collections=collections))\n",
    "            if len(refs) == 0:\n",
    "                continue\n",
    "            #print(len(refs))\n",
    "            measurement = butler.get(refs[0], collections=collections)\n",
    "            #print(measurement.metric_name)\n",
    "            uri = butler.getURI(x.name, refs[0].dataId, collections=collections)\n",
    "            print(uri.path)\n",
    "            #outfile = os.path.basename(uri.path)\n",
    "            outfile = '%s%s%s%s'%(measurement.metric_name, \n",
    "                                  '_expected',\n",
    "                                  os.path.basename(uri.path).split('_discrete')[0].split('HSC')[1],\n",
    "                                  os.path.splitext(uri.path)[1])\n",
    "            print(outfile)\n",
    "            print('\\n')\n",
    "            paths.append(uri.path)\n",
    "            outfiles.append(outfile)\n",
    "            \n",
    "    return list(zip(paths, outfiles))"
   ]
  },
  {
   "cell_type": "code",
   "execution_count": null,
   "metadata": {},
   "outputs": [],
   "source": [
    "collections = 'kbechtol/matched'\n",
    "metric_results_single_band = getMeasurementFilenames(butler, collections)"
   ]
  },
  {
   "cell_type": "code",
   "execution_count": null,
   "metadata": {},
   "outputs": [],
   "source": [
    "results[0][0]"
   ]
  },
  {
   "cell_type": "code",
   "execution_count": null,
   "metadata": {},
   "outputs": [],
   "source": [
    "collections = 'kbechtol/matched_multi'\n",
    "metric_results_multi_band = getMeasurementFilenames(butler, collections)"
   ]
  },
  {
   "cell_type": "code",
   "execution_count": null,
   "metadata": {},
   "outputs": [],
   "source": []
  },
  {
   "cell_type": "code",
   "execution_count": null,
   "metadata": {},
   "outputs": [],
   "source": [
    "collections = 'kbechtol/matched'\n",
    "#src_refs = list(registry.queryDatasets('src', collections='matchedTest', band='r'))\n",
    "for x in registry.queryDatasetTypes(): \n",
    "    if x.storageClass.name == 'MetricValue':\n",
    "        print(x.name, x.dimensions, 'patch' in x.dimensions)\n",
    "        refs = list(registry.queryDatasets(x.name, collections=collections))\n",
    "        print(len(refs))\n",
    "        measurement = butler.get(refs[0], collections=collections)\n",
    "        print(measurement.metric_name)\n",
    "        uri = butler.getURI(x.name, refs[0].dataId, collections=collections)\n",
    "        print(uri.path)\n",
    "        #outfile = os.path.basename(uri.path)\n",
    "        outfile = '%s%s%s%s'%(measurement.metric_name, \n",
    "                              '_expected',\n",
    "                              os.path.basename(uri.path).split('_discrete')[0].split('HSC')[1],\n",
    "                              os.path.splitext(uri.path)[1])\n",
    "        print(outfile)\n",
    "        print('\\n')\n",
    "    #if 'metricvalue' in x.name:\n",
    "    #    print(x.name, type(x.storageClass.name))"
   ]
  },
  {
   "cell_type": "code",
   "execution_count": null,
   "metadata": {},
   "outputs": [],
   "source": [
    "list(registry.queryDatasets('metricvalue_validate_drp_AB1_design', collections=collections))"
   ]
  },
  {
   "cell_type": "code",
   "execution_count": null,
   "metadata": {},
   "outputs": [],
   "source": [
    "#dir(uri)\n",
    "#measurement.metric_name\n",
    "print(measurement.metric_name)\n",
    "print(x.name)\n",
    "'%s%s'%(measurement.metric_name, os.path.basename(uri.path).split('_discrete')[0].split('HSC')[1])"
   ]
  },
  {
   "cell_type": "code",
   "execution_count": null,
   "metadata": {},
   "outputs": [],
   "source": [
    "x.storageClass"
   ]
  },
  {
   "cell_type": "markdown",
   "metadata": {},
   "source": [
    "## Extract Matched Catalogs"
   ]
  },
  {
   "cell_type": "code",
   "execution_count": null,
   "metadata": {},
   "outputs": [],
   "source": [
    "def getMatchedCatalogFilenames(butler, collections, datasettype, tract):\n",
    "    skymap = list(registry.queryDatasets('skyMap', collections=collections, findFirst=True))[0].dataId['skymap']\n",
    "    dataid = {'tract': tract, 'skymap': skymap}\n",
    "    refs = list(registry.queryDatasets(datasettype, \n",
    "                                       dataId=dataid,\n",
    "                                       #where=\"tract = 0 AND skymap='discrete/ci_hsc'\", \n",
    "                                       collections=collections))\n",
    "    #measurement = butler.get(refs[0], collections=collections)\n",
    "    #print(measurement.metric_name)\n",
    "    #print(len(refs))\n",
    "    uri = butler.getURI(datasettype, refs[0].dataId, collections=collections)\n",
    "    print(uri.path)\n",
    "    #outfile = os.path.basename(uri.path)\n",
    "    #outfile = '%s%s'%('matchedCatalog',\n",
    "    #                  os.path.basename(uri.path).split('_discrete')[0])\n",
    "    outfile = os.path.basename(uri.path).split('_discrete')[0] + os.path.splitext(uri.path)[1]\n",
    "    #os.path.basename(uri.path).split('_discrete')[0].split('HSC')[1],\n",
    "    print(outfile)\n",
    "    print('\\n')\n",
    "    return (uri.path, outfile)"
   ]
  },
  {
   "cell_type": "code",
   "execution_count": null,
   "metadata": {},
   "outputs": [],
   "source": [
    "#list(registry.queryDatasets('skyMap', collections='kbechtol/matched'))[0].dataId['skymap']"
   ]
  },
  {
   "cell_type": "code",
   "execution_count": null,
   "metadata": {},
   "outputs": [],
   "source": [
    "#list(registry.queryDatasets('matchedCatalogTract', collections='kbechtol/matched'))"
   ]
  },
  {
   "cell_type": "code",
   "execution_count": null,
   "metadata": {},
   "outputs": [],
   "source": [
    "collections = 'kbechtol/matched'\n",
    "results = getMatchedCatalogFilenames(butler, collections, 'matchedCatalogTract', 0)"
   ]
  },
  {
   "cell_type": "code",
   "execution_count": null,
   "metadata": {},
   "outputs": [],
   "source": [
    "collections = 'kbechtol/matched_multi'\n",
    "getMatchedCatalogFilenames(butler, collections, 'matchedCatalogMulti', 0)"
   ]
  },
  {
   "cell_type": "code",
   "execution_count": null,
   "metadata": {},
   "outputs": [],
   "source": [
    "collections = 'kbechtol/matched'\n",
    "am1_refs = list(registry.queryDatasets('metricvalue_validate_drp_AM1', collections=collections))\n",
    "am1_measurement = butler.get(am1_refs[0], collections=collections)\n",
    "print(am1_measurement.metric_name)\n",
    "#print(am1_measurement.identifier)\n",
    "dir(am1_measurement)"
   ]
  },
  {
   "cell_type": "code",
   "execution_count": null,
   "metadata": {},
   "outputs": [],
   "source": [
    "collections = 'kbechtol/matched'\n",
    "matched_catalog_refs = list(registry.queryDatasets('matchedCatalogTract', collections=collections))"
   ]
  },
  {
   "cell_type": "code",
   "execution_count": null,
   "metadata": {},
   "outputs": [],
   "source": [
    "for ref in matched_catalog_refs:\n",
    "    print(ref.dataId)\n",
    "    print(butler.getURI('matchedCatalogTract', ref.dataId, collections=collections))\n",
    "    os.path.isfile()"
   ]
  },
  {
   "cell_type": "code",
   "execution_count": null,
   "metadata": {},
   "outputs": [],
   "source": [
    "uri = butler.getURI('matchedCatalogTract', ref.dataId, collections=collections)\n",
    "uri.path"
   ]
  },
  {
   "cell_type": "code",
   "execution_count": null,
   "metadata": {},
   "outputs": [],
   "source": [
    "assert os.path.isfile(uri.path)\n",
    "assert os.path.exists(uri.path)"
   ]
  },
  {
   "cell_type": "code",
   "execution_count": null,
   "metadata": {},
   "outputs": [],
   "source": [
    "dir(uri)"
   ]
  },
  {
   "cell_type": "code",
   "execution_count": null,
   "metadata": {},
   "outputs": [],
   "source": []
  }
 ],
 "metadata": {
  "kernelspec": {
   "display_name": "LSST",
   "language": "python",
   "name": "lsst"
  },
  "language_info": {
   "codemirror_mode": {
    "name": "ipython",
    "version": 3
   },
   "file_extension": ".py",
   "mimetype": "text/x-python",
   "name": "python",
   "nbconvert_exporter": "python",
   "pygments_lexer": "ipython3",
   "version": "3.8.6"
  }
 },
 "nbformat": 4,
 "nbformat_minor": 4
}
