{
 "cells": [
  {
   "cell_type": "markdown",
   "metadata": {},
   "source": [
    "# Creating Datasets for Faro Unit Testing\n",
    "\n",
    "This notebook steps through the process of extracting a small set of data to use for `faro` unit testing."
   ]
  },
  {
   "cell_type": "code",
   "execution_count": null,
   "metadata": {},
   "outputs": [],
   "source": [
    "# Which version of the Stack am I using?\n",
    "!eups list -s | grep lsst_distrib"
   ]
  },
  {
   "cell_type": "code",
   "execution_count": null,
   "metadata": {},
   "outputs": [],
   "source": [
    "import glob\n",
    "import os\n",
    "\n",
    "import lsst.daf.butler as dafButler"
   ]
  },
  {
   "cell_type": "markdown",
   "metadata": {},
   "source": [
    "## Preliminaries\n",
    "\n",
    "Use the ci_hsc_gen3\n",
    "\n",
    "(1) Set up [testdata_ci_hsc](https://github.com/lsst/testdata_ci_hsc) following README instructions.\n",
    "\n",
    "(2) Set up [ci_hsc_gen3](https://github.com/lsst/ci_hsc_gen3) following README instructions.\n",
    "\n",
    "(3) Run `faro`. First, set up the package.\n",
    "\n",
    "```\n",
    "cd repos/metric-pipeline-tasks\n",
    "setup -k -r .\n",
    "```\n",
    "\n",
    "Run the single-band matched catalogs and metrics:\n",
    "\n",
    "```\n",
    "pipetask run -j 12 -b \"$CI_HSC_GEN3_DIR\"/DATA/butler.yaml --register-dataset-types -p pipelines/metrics_pipeline_matched.yaml --output kbechtol/matched -i HSC/runs/ci_hsc\n",
    "```\n",
    "\n",
    "Run the multi-band matched catalogs and metrics:\n",
    "\n",
    "```\n",
    "pipetask run -j 12 -b \"$CI_HSC_GEN3_DIR\"/DATA/butler.yaml --register-dataset-types -p pipelines/metrics_pipeline_matched_multi.yaml --output kbechtol/matched_multi -i HSC/runs/ci_hsc\n",
    "```"
   ]
  },
  {
   "cell_type": "markdown",
   "metadata": {},
   "source": [
    "## Extract Measurements\n",
    "\n",
    "Access the `.yaml` containing metric results."
   ]
  },
  {
   "cell_type": "code",
   "execution_count": null,
   "metadata": {},
   "outputs": [],
   "source": [
    "# This is a local version of ci_hsc_gen3\n",
    "repo = '/home/kbechtol/DATA/ci_hsc_gen3/DATA/'"
   ]
  },
  {
   "cell_type": "code",
   "execution_count": null,
   "metadata": {},
   "outputs": [],
   "source": [
    "config = os.path.join(repo,'butler.yaml')\n",
    "try: butler = dafButler.Butler(config=config)\n",
    "except ValueError as e: print(e)"
   ]
  },
  {
   "cell_type": "code",
   "execution_count": null,
   "metadata": {},
   "outputs": [],
   "source": [
    "registry = butler.registry"
   ]
  },
  {
   "cell_type": "code",
   "execution_count": null,
   "metadata": {},
   "outputs": [],
   "source": [
    "for x in registry.queryCollections():\n",
    "    print(x)"
   ]
  },
  {
   "cell_type": "code",
   "execution_count": null,
   "metadata": {},
   "outputs": [],
   "source": [
    "for x in registry.queryDatasetTypes(): \n",
    "    print(x)"
   ]
  },
  {
   "cell_type": "code",
   "execution_count": null,
   "metadata": {},
   "outputs": [],
   "source": [
    "path = '/home/kbechtol/DATA/ci_hsc_gen3/DATA/kbechtol/matched/20210127T041304Z'\n",
    "yaml_files = glob.glob(path + \"/**/*.yaml\", recursive = True)\n",
    "for file in yaml_files:\n",
    "    #if '_0_70_' not in file:\n",
    "    #    continue\n",
    "    if 'metadata' in file:\n",
    "        continue\n",
    "    new_name = file.replace('_discrete_ci_hsc_kbechtol_matched_20210127T041304Z', '')\n",
    "    print(os.path.basename(new_name))"
   ]
  },
  {
   "cell_type": "code",
   "execution_count": null,
   "metadata": {},
   "outputs": [],
   "source": [
    "def getMeasurementFilenames(butler, collections, tract):\n",
    "    # Need to filter on tract / patch\n",
    "    registry = butler.registry\n",
    "    skymap = list(registry.queryDatasets('skyMap', collections=collections, findFirst=True))[0].dataId['skymap']\n",
    "    paths = []\n",
    "    outfiles = []\n",
    "    for x in registry.queryDatasetTypes(): \n",
    "        if x.storageClass.name == 'MetricValue':\n",
    "            dataid = {'tract': tract, 'skymap': skymap}\n",
    "            refs = list(registry.queryDatasets(x.name, dataId=dataid, collections=collections))\n",
    "            if len(refs) == 0:\n",
    "                continue\n",
    "            measurement = butler.get(refs[0], collections=collections)\n",
    "            uri = butler.getURI(x.name, refs[0].dataId, collections=collections)\n",
    "            outfile = '%s%s%s%s'%(measurement.metric_name, \n",
    "                                  '_expected',\n",
    "                                  os.path.basename(uri.path).split('_discrete')[0].split('HSC')[1],\n",
    "                                  os.path.splitext(uri.path)[1])\n",
    "            paths.append(uri.path)\n",
    "            outfiles.append(outfile)\n",
    "            \n",
    "    return list(zip(paths, outfiles))"
   ]
  },
  {
   "cell_type": "code",
   "execution_count": null,
   "metadata": {},
   "outputs": [],
   "source": [
    "collections = 'kbechtol/matched'\n",
    "metric_results_single_band = getMeasurementFilenames(butler, collections, 0)"
   ]
  },
  {
   "cell_type": "code",
   "execution_count": null,
   "metadata": {},
   "outputs": [],
   "source": [
    "metric_results_single_band[0]"
   ]
  },
  {
   "cell_type": "code",
   "execution_count": null,
   "metadata": {},
   "outputs": [],
   "source": [
    "collections = 'kbechtol/matched_multi'\n",
    "metric_results_multi_band = getMeasurementFilenames(butler, collections, 0)"
   ]
  },
  {
   "cell_type": "markdown",
   "metadata": {},
   "source": [
    "## Extract Matched Catalogs"
   ]
  },
  {
   "cell_type": "code",
   "execution_count": null,
   "metadata": {},
   "outputs": [],
   "source": [
    "def getMatchedCatalogFilenames(butler, collections, datasettype, tract):\n",
    "    registry = butler.registry\n",
    "    skymap = list(registry.queryDatasets('skyMap', collections=collections, findFirst=True))[0].dataId['skymap']\n",
    "    dataid = {'tract': tract, 'skymap': skymap}\n",
    "    refs = list(registry.queryDatasets(datasettype, \n",
    "                                       dataId=dataid, \n",
    "                                       collections=collections))\n",
    "    uri = butler.getURI(datasettype, refs[0].dataId, collections=collections)\n",
    "    outfile = os.path.basename(uri.path).split('_discrete')[0] + os.path.splitext(uri.path)[1]\n",
    "    return (uri.path, outfile)"
   ]
  },
  {
   "cell_type": "code",
   "execution_count": null,
   "metadata": {},
   "outputs": [],
   "source": [
    "collections = 'kbechtol/matched'\n",
    "matched_catalog_single_band = getMatchedCatalogFilenames(butler, collections, 'matchedCatalogTract', 0)"
   ]
  },
  {
   "cell_type": "code",
   "execution_count": null,
   "metadata": {},
   "outputs": [],
   "source": [
    "collections = 'kbechtol/matched_multi'\n",
    "matched_catalog_multi_band = getMatchedCatalogFilenames(butler, collections, 'matchedCatalogMulti', 0)"
   ]
  },
  {
   "cell_type": "code",
   "execution_count": null,
   "metadata": {},
   "outputs": [],
   "source": []
  }
 ],
 "metadata": {
  "kernelspec": {
   "display_name": "LSST",
   "language": "python",
   "name": "lsst"
  },
  "language_info": {
   "codemirror_mode": {
    "name": "ipython",
    "version": 3
   },
   "file_extension": ".py",
   "mimetype": "text/x-python",
   "name": "python",
   "nbconvert_exporter": "python",
   "pygments_lexer": "ipython3",
   "version": "3.8.6"
  }
 },
 "nbformat": 4,
 "nbformat_minor": 4
}
